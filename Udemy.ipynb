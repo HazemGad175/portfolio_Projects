{
 "cells": [
  {
   "cell_type": "code",
   "execution_count": 1,
   "id": "228609d2-abc7-413d-8945-f905c27acfff",
   "metadata": {},
   "outputs": [],
   "source": [
    "import pandas as pd\n",
    "import numpy as np\n",
    "import matplotlib.pyplot as plt\n",
    "import seaborn as sns"
   ]
  },
  {
   "cell_type": "code",
   "execution_count": 2,
   "id": "d05eaeaa-8c95-4276-b37f-a04eba7e3995",
   "metadata": {},
   "outputs": [
    {
     "data": {
      "text/html": [
       "<div>\n",
       "<style scoped>\n",
       "    .dataframe tbody tr th:only-of-type {\n",
       "        vertical-align: middle;\n",
       "    }\n",
       "\n",
       "    .dataframe tbody tr th {\n",
       "        vertical-align: top;\n",
       "    }\n",
       "\n",
       "    .dataframe thead th {\n",
       "        text-align: right;\n",
       "    }\n",
       "</style>\n",
       "<table border=\"1\" class=\"dataframe\">\n",
       "  <thead>\n",
       "    <tr style=\"text-align: right;\">\n",
       "      <th></th>\n",
       "      <th>Unnamed: 0</th>\n",
       "      <th>course_id</th>\n",
       "      <th>course_title</th>\n",
       "      <th>url</th>\n",
       "      <th>is_paid</th>\n",
       "      <th>price</th>\n",
       "      <th>num_subscribers</th>\n",
       "      <th>num_reviews</th>\n",
       "      <th>num_lectures</th>\n",
       "      <th>level</th>\n",
       "      <th>content_duration</th>\n",
       "      <th>published_timestamp</th>\n",
       "      <th>subject</th>\n",
       "      <th>clean_course_title</th>\n",
       "    </tr>\n",
       "  </thead>\n",
       "  <tbody>\n",
       "    <tr>\n",
       "      <th>0</th>\n",
       "      <td>0</td>\n",
       "      <td>1070968</td>\n",
       "      <td>Ultimate Investment Banking Course</td>\n",
       "      <td>https://www.udemy.com/ultimate-investment-bank...</td>\n",
       "      <td>True</td>\n",
       "      <td>200</td>\n",
       "      <td>2147</td>\n",
       "      <td>23</td>\n",
       "      <td>51</td>\n",
       "      <td>All Levels</td>\n",
       "      <td>1.5 hours</td>\n",
       "      <td>2017-01-18T20:58:58Z</td>\n",
       "      <td>Business Finance</td>\n",
       "      <td>Ultimate Investment Banking Course</td>\n",
       "    </tr>\n",
       "    <tr>\n",
       "      <th>1</th>\n",
       "      <td>1</td>\n",
       "      <td>1113822</td>\n",
       "      <td>Complete GST Course &amp; Certification - Grow You...</td>\n",
       "      <td>https://www.udemy.com/goods-and-services-tax/</td>\n",
       "      <td>True</td>\n",
       "      <td>75</td>\n",
       "      <td>2792</td>\n",
       "      <td>923</td>\n",
       "      <td>274</td>\n",
       "      <td>All Levels</td>\n",
       "      <td>39 hours</td>\n",
       "      <td>2017-03-09T16:34:20Z</td>\n",
       "      <td>Business Finance</td>\n",
       "      <td>Complete GST Course  Certification  Grow Practice</td>\n",
       "    </tr>\n",
       "    <tr>\n",
       "      <th>2</th>\n",
       "      <td>2</td>\n",
       "      <td>1006314</td>\n",
       "      <td>Financial Modeling for Business Analysts and C...</td>\n",
       "      <td>https://www.udemy.com/financial-modeling-for-b...</td>\n",
       "      <td>True</td>\n",
       "      <td>45</td>\n",
       "      <td>2174</td>\n",
       "      <td>74</td>\n",
       "      <td>51</td>\n",
       "      <td>Intermediate Level</td>\n",
       "      <td>2.5 hours</td>\n",
       "      <td>2016-12-19T19:26:30Z</td>\n",
       "      <td>Business Finance</td>\n",
       "      <td>Financial Modeling Business Analysts Consultants</td>\n",
       "    </tr>\n",
       "    <tr>\n",
       "      <th>3</th>\n",
       "      <td>3</td>\n",
       "      <td>1210588</td>\n",
       "      <td>Beginner to Pro - Financial Analysis in Excel ...</td>\n",
       "      <td>https://www.udemy.com/complete-excel-finance-c...</td>\n",
       "      <td>True</td>\n",
       "      <td>95</td>\n",
       "      <td>2451</td>\n",
       "      <td>11</td>\n",
       "      <td>36</td>\n",
       "      <td>All Levels</td>\n",
       "      <td>3 hours</td>\n",
       "      <td>2017-05-30T20:07:24Z</td>\n",
       "      <td>Business Finance</td>\n",
       "      <td>Beginner Pro  Financial Analysis Excel 2017</td>\n",
       "    </tr>\n",
       "    <tr>\n",
       "      <th>4</th>\n",
       "      <td>4</td>\n",
       "      <td>1011058</td>\n",
       "      <td>How To Maximize Your Profits Trading Options</td>\n",
       "      <td>https://www.udemy.com/how-to-maximize-your-pro...</td>\n",
       "      <td>True</td>\n",
       "      <td>200</td>\n",
       "      <td>1276</td>\n",
       "      <td>45</td>\n",
       "      <td>26</td>\n",
       "      <td>Intermediate Level</td>\n",
       "      <td>2 hours</td>\n",
       "      <td>2016-12-13T14:57:18Z</td>\n",
       "      <td>Business Finance</td>\n",
       "      <td>Maximize Profits Trading Options</td>\n",
       "    </tr>\n",
       "    <tr>\n",
       "      <th>...</th>\n",
       "      <td>...</td>\n",
       "      <td>...</td>\n",
       "      <td>...</td>\n",
       "      <td>...</td>\n",
       "      <td>...</td>\n",
       "      <td>...</td>\n",
       "      <td>...</td>\n",
       "      <td>...</td>\n",
       "      <td>...</td>\n",
       "      <td>...</td>\n",
       "      <td>...</td>\n",
       "      <td>...</td>\n",
       "      <td>...</td>\n",
       "      <td>...</td>\n",
       "    </tr>\n",
       "    <tr>\n",
       "      <th>3678</th>\n",
       "      <td>3678</td>\n",
       "      <td>775618</td>\n",
       "      <td>Learn jQuery from Scratch - Master of JavaScri...</td>\n",
       "      <td>https://www.udemy.com/easy-jquery-for-beginner...</td>\n",
       "      <td>True</td>\n",
       "      <td>100</td>\n",
       "      <td>1040</td>\n",
       "      <td>14</td>\n",
       "      <td>21</td>\n",
       "      <td>All Levels</td>\n",
       "      <td>2 hours</td>\n",
       "      <td>2016-06-14T17:36:46Z</td>\n",
       "      <td>Web Development</td>\n",
       "      <td>Learn jQuery Scratch  Master JavaScript library</td>\n",
       "    </tr>\n",
       "    <tr>\n",
       "      <th>3679</th>\n",
       "      <td>3679</td>\n",
       "      <td>1088178</td>\n",
       "      <td>How To Design A WordPress Website With No Codi...</td>\n",
       "      <td>https://www.udemy.com/how-to-make-a-wordpress-...</td>\n",
       "      <td>True</td>\n",
       "      <td>25</td>\n",
       "      <td>306</td>\n",
       "      <td>3</td>\n",
       "      <td>42</td>\n",
       "      <td>Beginner Level</td>\n",
       "      <td>3.5 hours</td>\n",
       "      <td>2017-03-10T22:24:30Z</td>\n",
       "      <td>Web Development</td>\n",
       "      <td>Design WordPress Website Coding</td>\n",
       "    </tr>\n",
       "    <tr>\n",
       "      <th>3680</th>\n",
       "      <td>3680</td>\n",
       "      <td>635248</td>\n",
       "      <td>Learn and Build using Polymer</td>\n",
       "      <td>https://www.udemy.com/learn-and-build-using-po...</td>\n",
       "      <td>True</td>\n",
       "      <td>40</td>\n",
       "      <td>513</td>\n",
       "      <td>169</td>\n",
       "      <td>48</td>\n",
       "      <td>All Levels</td>\n",
       "      <td>3.5 hours</td>\n",
       "      <td>2015-12-30T16:41:42Z</td>\n",
       "      <td>Web Development</td>\n",
       "      <td>Learn Build Polymer</td>\n",
       "    </tr>\n",
       "    <tr>\n",
       "      <th>3681</th>\n",
       "      <td>3681</td>\n",
       "      <td>905096</td>\n",
       "      <td>CSS Animations: Create Amazing Effects on Your...</td>\n",
       "      <td>https://www.udemy.com/css-animations-create-am...</td>\n",
       "      <td>True</td>\n",
       "      <td>50</td>\n",
       "      <td>300</td>\n",
       "      <td>31</td>\n",
       "      <td>38</td>\n",
       "      <td>All Levels</td>\n",
       "      <td>3 hours</td>\n",
       "      <td>2016-08-11T19:06:15Z</td>\n",
       "      <td>Web Development</td>\n",
       "      <td>CSS Animations Create Amazing Effects Website</td>\n",
       "    </tr>\n",
       "    <tr>\n",
       "      <th>3682</th>\n",
       "      <td>3682</td>\n",
       "      <td>297602</td>\n",
       "      <td>Using MODX CMS to Build Websites: A Beginner's...</td>\n",
       "      <td>https://www.udemy.com/using-modx-cms-to-build-...</td>\n",
       "      <td>True</td>\n",
       "      <td>45</td>\n",
       "      <td>901</td>\n",
       "      <td>36</td>\n",
       "      <td>20</td>\n",
       "      <td>Beginner Level</td>\n",
       "      <td>2 hours</td>\n",
       "      <td>2014-09-28T19:51:11Z</td>\n",
       "      <td>Web Development</td>\n",
       "      <td>MODX CMS Build Websites Beginners Guide</td>\n",
       "    </tr>\n",
       "  </tbody>\n",
       "</table>\n",
       "<p>3683 rows × 14 columns</p>\n",
       "</div>"
      ],
      "text/plain": [
       "      Unnamed: 0  course_id  \\\n",
       "0              0    1070968   \n",
       "1              1    1113822   \n",
       "2              2    1006314   \n",
       "3              3    1210588   \n",
       "4              4    1011058   \n",
       "...          ...        ...   \n",
       "3678        3678     775618   \n",
       "3679        3679    1088178   \n",
       "3680        3680     635248   \n",
       "3681        3681     905096   \n",
       "3682        3682     297602   \n",
       "\n",
       "                                           course_title  \\\n",
       "0                    Ultimate Investment Banking Course   \n",
       "1     Complete GST Course & Certification - Grow You...   \n",
       "2     Financial Modeling for Business Analysts and C...   \n",
       "3     Beginner to Pro - Financial Analysis in Excel ...   \n",
       "4          How To Maximize Your Profits Trading Options   \n",
       "...                                                 ...   \n",
       "3678  Learn jQuery from Scratch - Master of JavaScri...   \n",
       "3679  How To Design A WordPress Website With No Codi...   \n",
       "3680                      Learn and Build using Polymer   \n",
       "3681  CSS Animations: Create Amazing Effects on Your...   \n",
       "3682  Using MODX CMS to Build Websites: A Beginner's...   \n",
       "\n",
       "                                                    url is_paid price  \\\n",
       "0     https://www.udemy.com/ultimate-investment-bank...    True   200   \n",
       "1         https://www.udemy.com/goods-and-services-tax/    True    75   \n",
       "2     https://www.udemy.com/financial-modeling-for-b...    True    45   \n",
       "3     https://www.udemy.com/complete-excel-finance-c...    True    95   \n",
       "4     https://www.udemy.com/how-to-maximize-your-pro...    True   200   \n",
       "...                                                 ...     ...   ...   \n",
       "3678  https://www.udemy.com/easy-jquery-for-beginner...    True   100   \n",
       "3679  https://www.udemy.com/how-to-make-a-wordpress-...    True    25   \n",
       "3680  https://www.udemy.com/learn-and-build-using-po...    True    40   \n",
       "3681  https://www.udemy.com/css-animations-create-am...    True    50   \n",
       "3682  https://www.udemy.com/using-modx-cms-to-build-...    True    45   \n",
       "\n",
       "      num_subscribers  num_reviews  num_lectures               level  \\\n",
       "0                2147           23            51          All Levels   \n",
       "1                2792          923           274          All Levels   \n",
       "2                2174           74            51  Intermediate Level   \n",
       "3                2451           11            36          All Levels   \n",
       "4                1276           45            26  Intermediate Level   \n",
       "...               ...          ...           ...                 ...   \n",
       "3678             1040           14            21          All Levels   \n",
       "3679              306            3            42      Beginner Level   \n",
       "3680              513          169            48          All Levels   \n",
       "3681              300           31            38          All Levels   \n",
       "3682              901           36            20      Beginner Level   \n",
       "\n",
       "     content_duration   published_timestamp           subject  \\\n",
       "0           1.5 hours  2017-01-18T20:58:58Z  Business Finance   \n",
       "1            39 hours  2017-03-09T16:34:20Z  Business Finance   \n",
       "2           2.5 hours  2016-12-19T19:26:30Z  Business Finance   \n",
       "3             3 hours  2017-05-30T20:07:24Z  Business Finance   \n",
       "4             2 hours  2016-12-13T14:57:18Z  Business Finance   \n",
       "...               ...                   ...               ...   \n",
       "3678          2 hours  2016-06-14T17:36:46Z   Web Development   \n",
       "3679        3.5 hours  2017-03-10T22:24:30Z   Web Development   \n",
       "3680        3.5 hours  2015-12-30T16:41:42Z   Web Development   \n",
       "3681          3 hours  2016-08-11T19:06:15Z   Web Development   \n",
       "3682          2 hours  2014-09-28T19:51:11Z   Web Development   \n",
       "\n",
       "                                     clean_course_title  \n",
       "0                    Ultimate Investment Banking Course  \n",
       "1     Complete GST Course  Certification  Grow Practice  \n",
       "2      Financial Modeling Business Analysts Consultants  \n",
       "3           Beginner Pro  Financial Analysis Excel 2017  \n",
       "4                      Maximize Profits Trading Options  \n",
       "...                                                 ...  \n",
       "3678    Learn jQuery Scratch  Master JavaScript library  \n",
       "3679                    Design WordPress Website Coding  \n",
       "3680                                Learn Build Polymer  \n",
       "3681      CSS Animations Create Amazing Effects Website  \n",
       "3682            MODX CMS Build Websites Beginners Guide  \n",
       "\n",
       "[3683 rows x 14 columns]"
      ]
     },
     "execution_count": 2,
     "metadata": {},
     "output_type": "execute_result"
    }
   ],
   "source": [
    "df=pd.read_csv('udemy_courses_clean.csv')\n",
    "df"
   ]
  },
  {
   "cell_type": "code",
   "execution_count": 3,
   "id": "7ca95d8a-7ec8-47e0-900b-b29de4541534",
   "metadata": {},
   "outputs": [
    {
     "data": {
      "text/plain": [
       "Index(['Unnamed: 0', 'course_id', 'course_title', 'url', 'is_paid', 'price',\n",
       "       'num_subscribers', 'num_reviews', 'num_lectures', 'level',\n",
       "       'content_duration', 'published_timestamp', 'subject',\n",
       "       'clean_course_title'],\n",
       "      dtype='object')"
      ]
     },
     "execution_count": 3,
     "metadata": {},
     "output_type": "execute_result"
    }
   ],
   "source": [
    "df.columns"
   ]
  },
  {
   "cell_type": "code",
   "execution_count": 4,
   "id": "980782dc-191c-4ca1-88b3-15d10148fa48",
   "metadata": {},
   "outputs": [
    {
     "name": "stdout",
     "output_type": "stream",
     "text": [
      "<class 'pandas.core.frame.DataFrame'>\n",
      "RangeIndex: 3683 entries, 0 to 3682\n",
      "Data columns (total 14 columns):\n",
      " #   Column               Non-Null Count  Dtype \n",
      "---  ------               --------------  ----- \n",
      " 0   Unnamed: 0           3683 non-null   int64 \n",
      " 1   course_id            3683 non-null   int64 \n",
      " 2   course_title         3683 non-null   object\n",
      " 3   url                  3683 non-null   object\n",
      " 4   is_paid              3683 non-null   object\n",
      " 5   price                3683 non-null   object\n",
      " 6   num_subscribers      3683 non-null   int64 \n",
      " 7   num_reviews          3683 non-null   int64 \n",
      " 8   num_lectures         3683 non-null   int64 \n",
      " 9   level                3683 non-null   object\n",
      " 10  content_duration     3683 non-null   object\n",
      " 11  published_timestamp  3683 non-null   object\n",
      " 12  subject              3683 non-null   object\n",
      " 13  clean_course_title   3663 non-null   object\n",
      "dtypes: int64(5), object(9)\n",
      "memory usage: 403.0+ KB\n"
     ]
    }
   ],
   "source": [
    "df.info()"
   ]
  },
  {
   "cell_type": "code",
   "execution_count": 5,
   "id": "9f975a1a-fd8d-4040-8966-606af77fb68e",
   "metadata": {},
   "outputs": [
    {
     "data": {
      "text/plain": [
       "Unnamed: 0              0\n",
       "course_id               0\n",
       "course_title            0\n",
       "url                     0\n",
       "is_paid                 0\n",
       "price                   0\n",
       "num_subscribers         0\n",
       "num_reviews             0\n",
       "num_lectures            0\n",
       "level                   0\n",
       "content_duration        0\n",
       "published_timestamp     0\n",
       "subject                 0\n",
       "clean_course_title     20\n",
       "dtype: int64"
      ]
     },
     "execution_count": 5,
     "metadata": {},
     "output_type": "execute_result"
    }
   ],
   "source": [
    "df.isnull().sum()"
   ]
  },
  {
   "cell_type": "markdown",
   "id": "c36c61c8-7b2c-4d69-838d-9086755fa994",
   "metadata": {
    "jp-MarkdownHeadingCollapsed": true
   },
   "source": [
    "# subject"
   ]
  },
  {
   "cell_type": "code",
   "execution_count": 7,
   "id": "9cb23736-be38-43f9-bda9-d3b3c29f11a5",
   "metadata": {},
   "outputs": [
    {
     "data": {
      "text/plain": [
       "array(['Business Finance', 'Graphic Design', 'Musical Instruments',\n",
       "       'Web Development'], dtype=object)"
      ]
     },
     "execution_count": 7,
     "metadata": {},
     "output_type": "execute_result"
    }
   ],
   "source": [
    "df['subject'].unique()"
   ]
  },
  {
   "cell_type": "code",
   "execution_count": 8,
   "id": "2ef4aa36-8d1a-4355-9e33-beced9e9a789",
   "metadata": {},
   "outputs": [
    {
     "data": {
      "text/plain": [
       "4"
      ]
     },
     "execution_count": 8,
     "metadata": {},
     "output_type": "execute_result"
    }
   ],
   "source": [
    "len(df['subject'].unique())"
   ]
  },
  {
   "cell_type": "code",
   "execution_count": 9,
   "id": "fb1b4ad6-d485-4065-83a4-8278198b698a",
   "metadata": {},
   "outputs": [
    {
     "data": {
      "text/plain": [
       "subject\n",
       "Web Development        1200\n",
       "Business Finance       1199\n",
       "Musical Instruments     681\n",
       "Graphic Design          603\n",
       "Name: count, dtype: int64"
      ]
     },
     "execution_count": 9,
     "metadata": {},
     "output_type": "execute_result"
    }
   ],
   "source": [
    "df['subject'].value_counts()"
   ]
  },
  {
   "cell_type": "code",
   "execution_count": 10,
   "id": "459d7043-42ba-4ad2-a5d7-0570e690de8d",
   "metadata": {},
   "outputs": [
    {
     "data": {
      "image/png": "[encoded data removed]",
      "text/plain": [
       "<Figure size 640x480 with 1 Axes>"
      ]
     },
     "metadata": {},
     "output_type": "display_data"
    }
   ],
   "source": [
    "df['subject'].value_counts().plot(kind='bar')\n",
    "plt.xticks(rotation=45)\n",
    "plt.show()"
   ]
  },
  {
   "cell_type": "code",
   "execution_count": 11,
   "id": "8aeecaeb-72bc-4fb6-be8e-c6cb932eecd5",
   "metadata": {},
   "outputs": [
    {
     "data": {
      "image/png": "[encoded data removed]",
      "text/plain": [
       "<Figure size 640x480 with 1 Axes>"
      ]
     },
     "metadata": {},
     "output_type": "display_data"
    }
   ],
   "source": [
    "df['subject'].value_counts().plot(kind='pie')\n",
    "plt.show()"
   ]
  },
  {
   "cell_type": "markdown",
   "id": "4e55497c-b647-438d-8afd-91e96b7d300e",
   "metadata": {
    "jp-MarkdownHeadingCollapsed": true
   },
   "source": [
    "# USING SEABORN"
   ]
  },
  {
   "cell_type": "code",
   "execution_count": 13,
   "id": "ed2fecf2-713c-456a-8922-1d3ce358ece6",
   "metadata": {},
   "outputs": [
    {
     "data": {
      "image/png": "[encoded data removed]",
      "text/plain": [
       "<Figure size 500x500 with 1 Axes>"
      ]
     },
     "metadata": {},
     "output_type": "display_data"
    }
   ],
   "source": [
    "plt.figure(figsize=(5,5))\n",
    "sns.countplot(x=df['subject'],data=df)\n",
    "plt.xticks(rotation=45)\n",
    "plt.show()"
   ]
  },
  {
   "cell_type": "markdown",
   "id": "51c3cfe5-4dd3-47e2-b143-5d1efc46064a",
   "metadata": {
    "jp-MarkdownHeadingCollapsed": true
   },
   "source": [
    "# num_subscribers"
   ]
  },
  {
   "cell_type": "code",
   "execution_count": 15,
   "id": "3da918bd-f5be-40f8-aea6-d13325786c0e",
   "metadata": {},
   "outputs": [
    {
     "data": {
      "text/plain": [
       "subject\n",
       "Business Finance       1870747\n",
       "Graphic Design         1063148\n",
       "Musical Instruments     846719\n",
       "Web Development        7980572\n",
       "Name: num_subscribers, dtype: int64"
      ]
     },
     "execution_count": 15,
     "metadata": {},
     "output_type": "execute_result"
    }
   ],
   "source": [
    "df.groupby('subject')['num_subscribers'].sum()"
   ]
  },
  {
   "cell_type": "code",
   "execution_count": 16,
   "id": "b91d8cb4-474b-4214-a638-10ae55c7bdb6",
   "metadata": {},
   "outputs": [
    {
     "data": {
      "text/plain": [
       "subject\n",
       "Business Finance       1560.256047\n",
       "Graphic Design         1763.097844\n",
       "Musical Instruments    1243.346549\n",
       "Web Development        6650.476667\n",
       "Name: num_subscribers, dtype: float64"
      ]
     },
     "execution_count": 16,
     "metadata": {},
     "output_type": "execute_result"
    }
   ],
   "source": [
    "df.groupby('subject')['num_subscribers'].mean()"
   ]
  },
  {
   "cell_type": "code",
   "execution_count": 17,
   "id": "023523c6-64fd-4baf-9b39-2ce11f829b43",
   "metadata": {},
   "outputs": [
    {
     "data": {
      "text/plain": [
       "subject\n",
       "Business Finance        65576\n",
       "Graphic Design          53851\n",
       "Musical Instruments    101154\n",
       "Web Development        268923\n",
       "Name: num_subscribers, dtype: int64"
      ]
     },
     "execution_count": 17,
     "metadata": {},
     "output_type": "execute_result"
    }
   ],
   "source": [
    "df.groupby('subject')['num_subscribers'].max()"
   ]
  },
  {
   "cell_type": "code",
   "execution_count": 18,
   "id": "a54165e3-7956-4323-bd31-0c409a65d436",
   "metadata": {},
   "outputs": [
    {
     "data": {
      "text/plain": [
       "268923"
      ]
     },
     "execution_count": 18,
     "metadata": {},
     "output_type": "execute_result"
    }
   ],
   "source": [
    "df['num_subscribers'].max()"
   ]
  },
  {
   "cell_type": "code",
   "execution_count": 19,
   "id": "b7a8dc73-2618-460e-b743-ca76c473b60e",
   "metadata": {},
   "outputs": [
    {
     "data": {
      "text/plain": [
       "2832"
      ]
     },
     "execution_count": 19,
     "metadata": {},
     "output_type": "execute_result"
    }
   ],
   "source": [
    "df['num_subscribers'].idxmax()"
   ]
  },
  {
   "cell_type": "code",
   "execution_count": 20,
   "id": "fff88a18-6142-4caa-89ec-b317901566d0",
   "metadata": {},
   "outputs": [
    {
     "data": {
      "text/plain": [
       "Unnamed: 0                                                          2832\n",
       "course_id                                                          41295\n",
       "course_title                        Learn HTML5 Programming From Scratch\n",
       "url                    https://www.udemy.com/learn-html5-programming-...\n",
       "is_paid                                                            False\n",
       "price                                                               Free\n",
       "num_subscribers                                                   268923\n",
       "num_reviews                                                         8629\n",
       "num_lectures                                                          45\n",
       "level                                                         All Levels\n",
       "content_duration                                              10.5 hours\n",
       "published_timestamp                                 2013-02-14T07:03:41Z\n",
       "subject                                                  Web Development\n",
       "clean_course_title                       Learn HTML5 Programming Scratch\n",
       "Name: 2832, dtype: object"
      ]
     },
     "execution_count": 20,
     "metadata": {},
     "output_type": "execute_result"
    }
   ],
   "source": [
    "#get location\n",
    "df.iloc[2832]"
   ]
  },
  {
   "cell_type": "markdown",
   "id": "9ac9a956-1ca6-4b07-8293-9510bd3e6193",
   "metadata": {
    "jp-MarkdownHeadingCollapsed": true
   },
   "source": [
    "# level"
   ]
  },
  {
   "cell_type": "code",
   "execution_count": 22,
   "id": "102f92fb-d12a-4080-81d1-f1e465c88417",
   "metadata": {},
   "outputs": [
    {
     "data": {
      "text/html": [
       "<div>\n",
       "<style scoped>\n",
       "    .dataframe tbody tr th:only-of-type {\n",
       "        vertical-align: middle;\n",
       "    }\n",
       "\n",
       "    .dataframe tbody tr th {\n",
       "        vertical-align: top;\n",
       "    }\n",
       "\n",
       "    .dataframe thead th {\n",
       "        text-align: right;\n",
       "    }\n",
       "</style>\n",
       "<table border=\"1\" class=\"dataframe\">\n",
       "  <thead>\n",
       "    <tr style=\"text-align: right;\">\n",
       "      <th></th>\n",
       "      <th>Unnamed: 0</th>\n",
       "      <th>course_id</th>\n",
       "      <th>course_title</th>\n",
       "      <th>url</th>\n",
       "      <th>is_paid</th>\n",
       "      <th>price</th>\n",
       "      <th>num_subscribers</th>\n",
       "      <th>num_reviews</th>\n",
       "      <th>num_lectures</th>\n",
       "      <th>level</th>\n",
       "      <th>content_duration</th>\n",
       "      <th>published_timestamp</th>\n",
       "      <th>subject</th>\n",
       "      <th>clean_course_title</th>\n",
       "    </tr>\n",
       "  </thead>\n",
       "  <tbody>\n",
       "    <tr>\n",
       "      <th>0</th>\n",
       "      <td>0</td>\n",
       "      <td>1070968</td>\n",
       "      <td>Ultimate Investment Banking Course</td>\n",
       "      <td>https://www.udemy.com/ultimate-investment-bank...</td>\n",
       "      <td>True</td>\n",
       "      <td>200</td>\n",
       "      <td>2147</td>\n",
       "      <td>23</td>\n",
       "      <td>51</td>\n",
       "      <td>All Levels</td>\n",
       "      <td>1.5 hours</td>\n",
       "      <td>2017-01-18T20:58:58Z</td>\n",
       "      <td>Business Finance</td>\n",
       "      <td>Ultimate Investment Banking Course</td>\n",
       "    </tr>\n",
       "    <tr>\n",
       "      <th>1</th>\n",
       "      <td>1</td>\n",
       "      <td>1113822</td>\n",
       "      <td>Complete GST Course &amp; Certification - Grow You...</td>\n",
       "      <td>https://www.udemy.com/goods-and-services-tax/</td>\n",
       "      <td>True</td>\n",
       "      <td>75</td>\n",
       "      <td>2792</td>\n",
       "      <td>923</td>\n",
       "      <td>274</td>\n",
       "      <td>All Levels</td>\n",
       "      <td>39 hours</td>\n",
       "      <td>2017-03-09T16:34:20Z</td>\n",
       "      <td>Business Finance</td>\n",
       "      <td>Complete GST Course  Certification  Grow Practice</td>\n",
       "    </tr>\n",
       "    <tr>\n",
       "      <th>2</th>\n",
       "      <td>2</td>\n",
       "      <td>1006314</td>\n",
       "      <td>Financial Modeling for Business Analysts and C...</td>\n",
       "      <td>https://www.udemy.com/financial-modeling-for-b...</td>\n",
       "      <td>True</td>\n",
       "      <td>45</td>\n",
       "      <td>2174</td>\n",
       "      <td>74</td>\n",
       "      <td>51</td>\n",
       "      <td>Intermediate Level</td>\n",
       "      <td>2.5 hours</td>\n",
       "      <td>2016-12-19T19:26:30Z</td>\n",
       "      <td>Business Finance</td>\n",
       "      <td>Financial Modeling Business Analysts Consultants</td>\n",
       "    </tr>\n",
       "    <tr>\n",
       "      <th>3</th>\n",
       "      <td>3</td>\n",
       "      <td>1210588</td>\n",
       "      <td>Beginner to Pro - Financial Analysis in Excel ...</td>\n",
       "      <td>https://www.udemy.com/complete-excel-finance-c...</td>\n",
       "      <td>True</td>\n",
       "      <td>95</td>\n",
       "      <td>2451</td>\n",
       "      <td>11</td>\n",
       "      <td>36</td>\n",
       "      <td>All Levels</td>\n",
       "      <td>3 hours</td>\n",
       "      <td>2017-05-30T20:07:24Z</td>\n",
       "      <td>Business Finance</td>\n",
       "      <td>Beginner Pro  Financial Analysis Excel 2017</td>\n",
       "    </tr>\n",
       "    <tr>\n",
       "      <th>4</th>\n",
       "      <td>4</td>\n",
       "      <td>1011058</td>\n",
       "      <td>How To Maximize Your Profits Trading Options</td>\n",
       "      <td>https://www.udemy.com/how-to-maximize-your-pro...</td>\n",
       "      <td>True</td>\n",
       "      <td>200</td>\n",
       "      <td>1276</td>\n",
       "      <td>45</td>\n",
       "      <td>26</td>\n",
       "      <td>Intermediate Level</td>\n",
       "      <td>2 hours</td>\n",
       "      <td>2016-12-13T14:57:18Z</td>\n",
       "      <td>Business Finance</td>\n",
       "      <td>Maximize Profits Trading Options</td>\n",
       "    </tr>\n",
       "    <tr>\n",
       "      <th>...</th>\n",
       "      <td>...</td>\n",
       "      <td>...</td>\n",
       "      <td>...</td>\n",
       "      <td>...</td>\n",
       "      <td>...</td>\n",
       "      <td>...</td>\n",
       "      <td>...</td>\n",
       "      <td>...</td>\n",
       "      <td>...</td>\n",
       "      <td>...</td>\n",
       "      <td>...</td>\n",
       "      <td>...</td>\n",
       "      <td>...</td>\n",
       "      <td>...</td>\n",
       "    </tr>\n",
       "    <tr>\n",
       "      <th>3678</th>\n",
       "      <td>3678</td>\n",
       "      <td>775618</td>\n",
       "      <td>Learn jQuery from Scratch - Master of JavaScri...</td>\n",
       "      <td>https://www.udemy.com/easy-jquery-for-beginner...</td>\n",
       "      <td>True</td>\n",
       "      <td>100</td>\n",
       "      <td>1040</td>\n",
       "      <td>14</td>\n",
       "      <td>21</td>\n",
       "      <td>All Levels</td>\n",
       "      <td>2 hours</td>\n",
       "      <td>2016-06-14T17:36:46Z</td>\n",
       "      <td>Web Development</td>\n",
       "      <td>Learn jQuery Scratch  Master JavaScript library</td>\n",
       "    </tr>\n",
       "    <tr>\n",
       "      <th>3679</th>\n",
       "      <td>3679</td>\n",
       "      <td>1088178</td>\n",
       "      <td>How To Design A WordPress Website With No Codi...</td>\n",
       "      <td>https://www.udemy.com/how-to-make-a-wordpress-...</td>\n",
       "      <td>True</td>\n",
       "      <td>25</td>\n",
       "      <td>306</td>\n",
       "      <td>3</td>\n",
       "      <td>42</td>\n",
       "      <td>Beginner Level</td>\n",
       "      <td>3.5 hours</td>\n",
       "      <td>2017-03-10T22:24:30Z</td>\n",
       "      <td>Web Development</td>\n",
       "      <td>Design WordPress Website Coding</td>\n",
       "    </tr>\n",
       "    <tr>\n",
       "      <th>3680</th>\n",
       "      <td>3680</td>\n",
       "      <td>635248</td>\n",
       "      <td>Learn and Build using Polymer</td>\n",
       "      <td>https://www.udemy.com/learn-and-build-using-po...</td>\n",
       "      <td>True</td>\n",
       "      <td>40</td>\n",
       "      <td>513</td>\n",
       "      <td>169</td>\n",
       "      <td>48</td>\n",
       "      <td>All Levels</td>\n",
       "      <td>3.5 hours</td>\n",
       "      <td>2015-12-30T16:41:42Z</td>\n",
       "      <td>Web Development</td>\n",
       "      <td>Learn Build Polymer</td>\n",
       "    </tr>\n",
       "    <tr>\n",
       "      <th>3681</th>\n",
       "      <td>3681</td>\n",
       "      <td>905096</td>\n",
       "      <td>CSS Animations: Create Amazing Effects on Your...</td>\n",
       "      <td>https://www.udemy.com/css-animations-create-am...</td>\n",
       "      <td>True</td>\n",
       "      <td>50</td>\n",
       "      <td>300</td>\n",
       "      <td>31</td>\n",
       "      <td>38</td>\n",
       "      <td>All Levels</td>\n",
       "      <td>3 hours</td>\n",
       "      <td>2016-08-11T19:06:15Z</td>\n",
       "      <td>Web Development</td>\n",
       "      <td>CSS Animations Create Amazing Effects Website</td>\n",
       "    </tr>\n",
       "    <tr>\n",
       "      <th>3682</th>\n",
       "      <td>3682</td>\n",
       "      <td>297602</td>\n",
       "      <td>Using MODX CMS to Build Websites: A Beginner's...</td>\n",
       "      <td>https://www.udemy.com/using-modx-cms-to-build-...</td>\n",
       "      <td>True</td>\n",
       "      <td>45</td>\n",
       "      <td>901</td>\n",
       "      <td>36</td>\n",
       "      <td>20</td>\n",
       "      <td>Beginner Level</td>\n",
       "      <td>2 hours</td>\n",
       "      <td>2014-09-28T19:51:11Z</td>\n",
       "      <td>Web Development</td>\n",
       "      <td>MODX CMS Build Websites Beginners Guide</td>\n",
       "    </tr>\n",
       "  </tbody>\n",
       "</table>\n",
       "<p>3683 rows × 14 columns</p>\n",
       "</div>"
      ],
      "text/plain": [
       "      Unnamed: 0  course_id  \\\n",
       "0              0    1070968   \n",
       "1              1    1113822   \n",
       "2              2    1006314   \n",
       "3              3    1210588   \n",
       "4              4    1011058   \n",
       "...          ...        ...   \n",
       "3678        3678     775618   \n",
       "3679        3679    1088178   \n",
       "3680        3680     635248   \n",
       "3681        3681     905096   \n",
       "3682        3682     297602   \n",
       "\n",
       "                                           course_title  \\\n",
       "0                    Ultimate Investment Banking Course   \n",
       "1     Complete GST Course & Certification - Grow You...   \n",
       "2     Financial Modeling for Business Analysts and C...   \n",
       "3     Beginner to Pro - Financial Analysis in Excel ...   \n",
       "4          How To Maximize Your Profits Trading Options   \n",
       "...                                                 ...   \n",
       "3678  Learn jQuery from Scratch - Master of JavaScri...   \n",
       "3679  How To Design A WordPress Website With No Codi...   \n",
       "3680                      Learn and Build using Polymer   \n",
       "3681  CSS Animations: Create Amazing Effects on Your...   \n",
       "3682  Using MODX CMS to Build Websites: A Beginner's...   \n",
       "\n",
       "                                                    url is_paid price  \\\n",
       "0     https://www.udemy.com/ultimate-investment-bank...    True   200   \n",
       "1         https://www.udemy.com/goods-and-services-tax/    True    75   \n",
       "2     https://www.udemy.com/financial-modeling-for-b...    True    45   \n",
       "3     https://www.udemy.com/complete-excel-finance-c...    True    95   \n",
       "4     https://www.udemy.com/how-to-maximize-your-pro...    True   200   \n",
       "...                                                 ...     ...   ...   \n",
       "3678  https://www.udemy.com/easy-jquery-for-beginner...    True   100   \n",
       "3679  https://www.udemy.com/how-to-make-a-wordpress-...    True    25   \n",
       "3680  https://www.udemy.com/learn-and-build-using-po...    True    40   \n",
       "3681  https://www.udemy.com/css-animations-create-am...    True    50   \n",
       "3682  https://www.udemy.com/using-modx-cms-to-build-...    True    45   \n",
       "\n",
       "      num_subscribers  num_reviews  num_lectures               level  \\\n",
       "0                2147           23            51          All Levels   \n",
       "1                2792          923           274          All Levels   \n",
       "2                2174           74            51  Intermediate Level   \n",
       "3                2451           11            36          All Levels   \n",
       "4                1276           45            26  Intermediate Level   \n",
       "...               ...          ...           ...                 ...   \n",
       "3678             1040           14            21          All Levels   \n",
       "3679              306            3            42      Beginner Level   \n",
       "3680              513          169            48          All Levels   \n",
       "3681              300           31            38          All Levels   \n",
       "3682              901           36            20      Beginner Level   \n",
       "\n",
       "     content_duration   published_timestamp           subject  \\\n",
       "0           1.5 hours  2017-01-18T20:58:58Z  Business Finance   \n",
       "1            39 hours  2017-03-09T16:34:20Z  Business Finance   \n",
       "2           2.5 hours  2016-12-19T19:26:30Z  Business Finance   \n",
       "3             3 hours  2017-05-30T20:07:24Z  Business Finance   \n",
       "4             2 hours  2016-12-13T14:57:18Z  Business Finance   \n",
       "...               ...                   ...               ...   \n",
       "3678          2 hours  2016-06-14T17:36:46Z   Web Development   \n",
       "3679        3.5 hours  2017-03-10T22:24:30Z   Web Development   \n",
       "3680        3.5 hours  2015-12-30T16:41:42Z   Web Development   \n",
       "3681          3 hours  2016-08-11T19:06:15Z   Web Development   \n",
       "3682          2 hours  2014-09-28T19:51:11Z   Web Development   \n",
       "\n",
       "                                     clean_course_title  \n",
       "0                    Ultimate Investment Banking Course  \n",
       "1     Complete GST Course  Certification  Grow Practice  \n",
       "2      Financial Modeling Business Analysts Consultants  \n",
       "3           Beginner Pro  Financial Analysis Excel 2017  \n",
       "4                      Maximize Profits Trading Options  \n",
       "...                                                 ...  \n",
       "3678    Learn jQuery Scratch  Master JavaScript library  \n",
       "3679                    Design WordPress Website Coding  \n",
       "3680                                Learn Build Polymer  \n",
       "3681      CSS Animations Create Amazing Effects Website  \n",
       "3682            MODX CMS Build Websites Beginners Guide  \n",
       "\n",
       "[3683 rows x 14 columns]"
      ]
     },
     "execution_count": 22,
     "metadata": {},
     "output_type": "execute_result"
    }
   ],
   "source": [
    "df"
   ]
  },
  {
   "cell_type": "code",
   "execution_count": 23,
   "id": "c3e70705-80eb-4a92-bcbb-6808811d1d11",
   "metadata": {},
   "outputs": [
    {
     "data": {
      "text/plain": [
       "array(['All Levels', 'Intermediate Level', 'Beginner Level',\n",
       "       'Expert Level', '52'], dtype=object)"
      ]
     },
     "execution_count": 23,
     "metadata": {},
     "output_type": "execute_result"
    }
   ],
   "source": [
    "df['level'].unique()"
   ]
  },
  {
   "cell_type": "code",
   "execution_count": 24,
   "id": "3a67fb42-c31d-4ec3-87c4-89ade31f373e",
   "metadata": {},
   "outputs": [
    {
     "data": {
      "text/plain": [
       "level\n",
       "All Levels            1932\n",
       "Beginner Level        1271\n",
       "Intermediate Level     421\n",
       "Expert Level            58\n",
       "52                       1\n",
       "Name: count, dtype: int64"
      ]
     },
     "execution_count": 24,
     "metadata": {},
     "output_type": "execute_result"
    }
   ],
   "source": [
    "df['level'].value_counts()"
   ]
  },
  {
   "cell_type": "code",
   "execution_count": 25,
   "id": "2ebbd3cf-2acd-4468-aac1-7d063635a5e1",
   "metadata": {},
   "outputs": [
    {
     "data": {
      "text/html": [
       "<div>\n",
       "<style scoped>\n",
       "    .dataframe tbody tr th:only-of-type {\n",
       "        vertical-align: middle;\n",
       "    }\n",
       "\n",
       "    .dataframe tbody tr th {\n",
       "        vertical-align: top;\n",
       "    }\n",
       "\n",
       "    .dataframe thead th {\n",
       "        text-align: right;\n",
       "    }\n",
       "</style>\n",
       "<table border=\"1\" class=\"dataframe\">\n",
       "  <thead>\n",
       "    <tr style=\"text-align: right;\">\n",
       "      <th></th>\n",
       "      <th>Unnamed: 0</th>\n",
       "      <th>course_id</th>\n",
       "      <th>course_title</th>\n",
       "      <th>url</th>\n",
       "      <th>is_paid</th>\n",
       "      <th>price</th>\n",
       "      <th>num_subscribers</th>\n",
       "      <th>num_reviews</th>\n",
       "      <th>num_lectures</th>\n",
       "      <th>level</th>\n",
       "      <th>content_duration</th>\n",
       "      <th>published_timestamp</th>\n",
       "      <th>subject</th>\n",
       "      <th>clean_course_title</th>\n",
       "    </tr>\n",
       "  </thead>\n",
       "  <tbody>\n",
       "    <tr>\n",
       "      <th>2066</th>\n",
       "      <td>2066</td>\n",
       "      <td>96698</td>\n",
       "      <td>Learn Classical Guitar Technique and play 'Spa...</td>\n",
       "      <td>000!\"</td>\n",
       "      <td>https://www.udemy.com/learnguitartoworship/</td>\n",
       "      <td>TRUE</td>\n",
       "      <td>30</td>\n",
       "      <td>1463</td>\n",
       "      <td>29</td>\n",
       "      <td>52</td>\n",
       "      <td>Beginner Level</td>\n",
       "      <td>3 hours</td>\n",
       "      <td>Musical Instruments</td>\n",
       "      <td>Learn Classical Guitar Technique play Spanish ...</td>\n",
       "    </tr>\n",
       "  </tbody>\n",
       "</table>\n",
       "</div>"
      ],
      "text/plain": [
       "      Unnamed: 0  course_id  \\\n",
       "2066        2066      96698   \n",
       "\n",
       "                                           course_title    url  \\\n",
       "2066  Learn Classical Guitar Technique and play 'Spa...  000!\"   \n",
       "\n",
       "                                          is_paid price  num_subscribers  \\\n",
       "2066  https://www.udemy.com/learnguitartoworship/  TRUE               30   \n",
       "\n",
       "      num_reviews  num_lectures level content_duration published_timestamp  \\\n",
       "2066         1463            29    52   Beginner Level             3 hours   \n",
       "\n",
       "                  subject                                 clean_course_title  \n",
       "2066  Musical Instruments  Learn Classical Guitar Technique play Spanish ...  "
      ]
     },
     "execution_count": 25,
     "metadata": {},
     "output_type": "execute_result"
    }
   ],
   "source": [
    "f=(df['level']=='52')\n",
    "df[f]"
   ]
  },
  {
   "cell_type": "code",
   "execution_count": 26,
   "id": "e8d4fe86-5c06-48b3-8977-dc5b120be5d4",
   "metadata": {},
   "outputs": [
    {
     "data": {
      "text/plain": [
       "Unnamed: 0                                                          2066\n",
       "course_id                                                          96698\n",
       "course_title           Learn Classical Guitar Technique and play 'Spa...\n",
       "url                                                                000!\"\n",
       "is_paid                      https://www.udemy.com/learnguitartoworship/\n",
       "price                                                               TRUE\n",
       "num_subscribers                                                       30\n",
       "num_reviews                                                         1463\n",
       "num_lectures                                                          29\n",
       "level                                                                 52\n",
       "content_duration                                          Beginner Level\n",
       "published_timestamp                                              3 hours\n",
       "subject                                              Musical Instruments\n",
       "clean_course_title     Learn Classical Guitar Technique play Spanish ...\n",
       "Name: 2066, dtype: object"
      ]
     },
     "execution_count": 26,
     "metadata": {},
     "output_type": "execute_result"
    }
   ],
   "source": [
    "df.iloc[2066]"
   ]
  },
  {
   "cell_type": "code",
   "execution_count": 27,
   "id": "68979a10-d751-4110-89b2-030399970a66",
   "metadata": {},
   "outputs": [
    {
     "name": "stdout",
     "output_type": "stream",
     "text": [
      "14\n",
      "14\n"
     ]
    }
   ],
   "source": [
    "print(len(df.columns))  # عدد الأعمدة الحقيقي\n",
    "print(df.iloc[2066].count())  # عدد القيم الموجودة في الصف ده\n"
   ]
  },
  {
   "cell_type": "code",
   "execution_count": 28,
   "id": "9d28cc59-3afc-47d9-9af3-c603c832bff5",
   "metadata": {},
   "outputs": [
    {
     "name": "stdout",
     "output_type": "stream",
     "text": [
      "Unnamed: 0                                                          2066\n",
      "course_id                                                          96698\n",
      "course_title           Learn Classical Guitar Technique and play 'Spa...\n",
      "url                                                                000!\"\n",
      "is_paid                      https://www.udemy.com/learnguitartoworship/\n",
      "price                                                               TRUE\n",
      "num_subscribers                                                       30\n",
      "num_reviews                                                         1463\n",
      "num_lectures                                                          29\n",
      "level                                                                 52\n",
      "content_duration                                          Beginner Level\n",
      "published_timestamp                                              3 hours\n",
      "subject                                              Musical Instruments\n",
      "clean_course_title     Learn Classical Guitar Technique play Spanish ...\n",
      "Name: 2066, dtype: object\n"
     ]
    }
   ],
   "source": [
    "broken_row = df.iloc[2066]\n",
    "print(broken_row)\n"
   ]
  },
  {
   "cell_type": "code",
   "execution_count": 29,
   "id": "be3c7007-81b3-431b-bd7c-23de1b714739",
   "metadata": {},
   "outputs": [
    {
     "data": {
      "image/png": "[encoded data removed]",
      "text/plain": [
       "<Figure size 640x480 with 1 Axes>"
      ]
     },
     "metadata": {},
     "output_type": "display_data"
    }
   ],
   "source": [
    "df['level'].value_counts().plot(kind='bar')\n",
    "plt.xticks(rotation=45)\n",
    "plt.show()"
   ]
  },
  {
   "cell_type": "code",
   "execution_count": 30,
   "id": "1714795d-7614-4577-8b6b-d0afd84a3ad2",
   "metadata": {},
   "outputs": [
    {
     "data": {
      "image/png": "[encoded data removed]",
      "text/plain": [
       "<Figure size 640x480 with 1 Axes>"
      ]
     },
     "metadata": {},
     "output_type": "display_data"
    }
   ],
   "source": [
    "df['level'].value_counts().plot(kind='pie')\n",
    "plt.xticks(rotation=45)\n",
    "plt.show()"
   ]
  },
  {
   "cell_type": "code",
   "execution_count": 31,
   "id": "5562d36d-2d28-4d60-bd23-59e596d44d4c",
   "metadata": {},
   "outputs": [
    {
     "data": {
      "text/html": [
       "<div>\n",
       "<style scoped>\n",
       "    .dataframe tbody tr th:only-of-type {\n",
       "        vertical-align: middle;\n",
       "    }\n",
       "\n",
       "    .dataframe tbody tr th {\n",
       "        vertical-align: top;\n",
       "    }\n",
       "\n",
       "    .dataframe thead th {\n",
       "        text-align: right;\n",
       "    }\n",
       "</style>\n",
       "<table border=\"1\" class=\"dataframe\">\n",
       "  <thead>\n",
       "    <tr style=\"text-align: right;\">\n",
       "      <th></th>\n",
       "      <th>num_subscribers</th>\n",
       "      <th>level</th>\n",
       "    </tr>\n",
       "  </thead>\n",
       "  <tbody>\n",
       "    <tr>\n",
       "      <th>0</th>\n",
       "      <td>2147</td>\n",
       "      <td>All Levels</td>\n",
       "    </tr>\n",
       "    <tr>\n",
       "      <th>1</th>\n",
       "      <td>2792</td>\n",
       "      <td>All Levels</td>\n",
       "    </tr>\n",
       "    <tr>\n",
       "      <th>2</th>\n",
       "      <td>2174</td>\n",
       "      <td>Intermediate Level</td>\n",
       "    </tr>\n",
       "    <tr>\n",
       "      <th>3</th>\n",
       "      <td>2451</td>\n",
       "      <td>All Levels</td>\n",
       "    </tr>\n",
       "    <tr>\n",
       "      <th>4</th>\n",
       "      <td>1276</td>\n",
       "      <td>Intermediate Level</td>\n",
       "    </tr>\n",
       "    <tr>\n",
       "      <th>...</th>\n",
       "      <td>...</td>\n",
       "      <td>...</td>\n",
       "    </tr>\n",
       "    <tr>\n",
       "      <th>3678</th>\n",
       "      <td>1040</td>\n",
       "      <td>All Levels</td>\n",
       "    </tr>\n",
       "    <tr>\n",
       "      <th>3679</th>\n",
       "      <td>306</td>\n",
       "      <td>Beginner Level</td>\n",
       "    </tr>\n",
       "    <tr>\n",
       "      <th>3680</th>\n",
       "      <td>513</td>\n",
       "      <td>All Levels</td>\n",
       "    </tr>\n",
       "    <tr>\n",
       "      <th>3681</th>\n",
       "      <td>300</td>\n",
       "      <td>All Levels</td>\n",
       "    </tr>\n",
       "    <tr>\n",
       "      <th>3682</th>\n",
       "      <td>901</td>\n",
       "      <td>Beginner Level</td>\n",
       "    </tr>\n",
       "  </tbody>\n",
       "</table>\n",
       "<p>3683 rows × 2 columns</p>\n",
       "</div>"
      ],
      "text/plain": [
       "      num_subscribers               level\n",
       "0                2147          All Levels\n",
       "1                2792          All Levels\n",
       "2                2174  Intermediate Level\n",
       "3                2451          All Levels\n",
       "4                1276  Intermediate Level\n",
       "...               ...                 ...\n",
       "3678             1040          All Levels\n",
       "3679              306      Beginner Level\n",
       "3680              513          All Levels\n",
       "3681              300          All Levels\n",
       "3682              901      Beginner Level\n",
       "\n",
       "[3683 rows x 2 columns]"
      ]
     },
     "execution_count": 31,
     "metadata": {},
     "output_type": "execute_result"
    }
   ],
   "source": [
    "df[['num_subscribers','level']]"
   ]
  },
  {
   "cell_type": "code",
   "execution_count": 32,
   "id": "e118bebc-4bfa-4bdd-99e1-318958be2b72",
   "metadata": {},
   "outputs": [
    {
     "data": {
      "text/plain": [
       "level\n",
       "52                         30\n",
       "All Levels            6916112\n",
       "Beginner Level        4052843\n",
       "Expert Level            50196\n",
       "Intermediate Level     742005\n",
       "Name: num_subscribers, dtype: int64"
      ]
     },
     "execution_count": 32,
     "metadata": {},
     "output_type": "execute_result"
    }
   ],
   "source": [
    "df.groupby('level')['num_subscribers'].sum()"
   ]
  },
  {
   "cell_type": "code",
   "execution_count": 33,
   "id": "6c85f188-aee6-4e3c-b304-5284f682e573",
   "metadata": {},
   "outputs": [
    {
     "data": {
      "image/png": "[encoded data removed]",
      "text/plain": [
       "<Figure size 640x480 with 1 Axes>"
      ]
     },
     "metadata": {},
     "output_type": "display_data"
    }
   ],
   "source": [
    "df.groupby('level')['num_subscribers'].sum().plot(kind='bar')\n",
    "plt.show()"
   ]
  },
  {
   "cell_type": "code",
   "execution_count": 34,
   "id": "0b4fec37-4e16-4559-a109-ff85fc44ee26",
   "metadata": {},
   "outputs": [
    {
     "data": {
      "image/png": "[encoded data removed]",
      "text/plain": [
       "<Figure size 640x480 with 1 Axes>"
      ]
     },
     "metadata": {},
     "output_type": "display_data"
    }
   ],
   "source": [
    "df.groupby('level')['num_subscribers'].sum().plot(kind='pie')\n",
    "plt.show()"
   ]
  },
  {
   "cell_type": "code",
   "execution_count": 35,
   "id": "a372d405-a638-4d85-a2ad-85c4b800502d",
   "metadata": {},
   "outputs": [
    {
     "data": {
      "image/png": "[encoded data removed]",
      "text/plain": [
       "<Figure size 640x480 with 1 Axes>"
      ]
     },
     "metadata": {},
     "output_type": "display_data"
    }
   ],
   "source": [
    "df.groupby('subject')['level'].value_counts().plot(kind='bar')\n",
    "plt.show()"
   ]
  },
  {
   "cell_type": "code",
   "execution_count": 36,
   "id": "225f669a-0b4c-49b8-b241-24d1ae03cb6a",
   "metadata": {},
   "outputs": [
    {
     "data": {
      "image/png": "[encoded data removed]",
      "text/plain": [
       "<Figure size 2000x1000 with 1 Axes>"
      ]
     },
     "metadata": {},
     "output_type": "display_data"
    }
   ],
   "source": [
    "plt.figure(figsize=(20,10))\n",
    "sns.barplot(x='level',y='num_subscribers',data=df,hue='subject')\n",
    "plt.show()"
   ]
  },
  {
   "cell_type": "code",
   "execution_count": 37,
   "id": "27f3d344-9f03-4bfd-a992-d5dbd750da04",
   "metadata": {},
   "outputs": [
    {
     "data": {
      "text/html": [
       "<div>\n",
       "<style scoped>\n",
       "    .dataframe tbody tr th:only-of-type {\n",
       "        vertical-align: middle;\n",
       "    }\n",
       "\n",
       "    .dataframe tbody tr th {\n",
       "        vertical-align: top;\n",
       "    }\n",
       "\n",
       "    .dataframe thead th {\n",
       "        text-align: right;\n",
       "    }\n",
       "</style>\n",
       "<table border=\"1\" class=\"dataframe\">\n",
       "  <thead>\n",
       "    <tr style=\"text-align: right;\">\n",
       "      <th></th>\n",
       "      <th>Unnamed: 0</th>\n",
       "      <th>course_id</th>\n",
       "      <th>course_title</th>\n",
       "      <th>url</th>\n",
       "      <th>is_paid</th>\n",
       "      <th>price</th>\n",
       "      <th>num_subscribers</th>\n",
       "      <th>num_reviews</th>\n",
       "      <th>num_lectures</th>\n",
       "      <th>level</th>\n",
       "      <th>content_duration</th>\n",
       "      <th>published_timestamp</th>\n",
       "      <th>subject</th>\n",
       "      <th>clean_course_title</th>\n",
       "    </tr>\n",
       "  </thead>\n",
       "  <tbody>\n",
       "    <tr>\n",
       "      <th>0</th>\n",
       "      <td>0</td>\n",
       "      <td>1070968</td>\n",
       "      <td>Ultimate Investment Banking Course</td>\n",
       "      <td>https://www.udemy.com/ultimate-investment-bank...</td>\n",
       "      <td>True</td>\n",
       "      <td>200</td>\n",
       "      <td>2147</td>\n",
       "      <td>23</td>\n",
       "      <td>51</td>\n",
       "      <td>All Levels</td>\n",
       "      <td>1.5 hours</td>\n",
       "      <td>2017-01-18T20:58:58Z</td>\n",
       "      <td>Business Finance</td>\n",
       "      <td>Ultimate Investment Banking Course</td>\n",
       "    </tr>\n",
       "    <tr>\n",
       "      <th>1</th>\n",
       "      <td>1</td>\n",
       "      <td>1113822</td>\n",
       "      <td>Complete GST Course &amp; Certification - Grow You...</td>\n",
       "      <td>https://www.udemy.com/goods-and-services-tax/</td>\n",
       "      <td>True</td>\n",
       "      <td>75</td>\n",
       "      <td>2792</td>\n",
       "      <td>923</td>\n",
       "      <td>274</td>\n",
       "      <td>All Levels</td>\n",
       "      <td>39 hours</td>\n",
       "      <td>2017-03-09T16:34:20Z</td>\n",
       "      <td>Business Finance</td>\n",
       "      <td>Complete GST Course  Certification  Grow Practice</td>\n",
       "    </tr>\n",
       "    <tr>\n",
       "      <th>2</th>\n",
       "      <td>2</td>\n",
       "      <td>1006314</td>\n",
       "      <td>Financial Modeling for Business Analysts and C...</td>\n",
       "      <td>https://www.udemy.com/financial-modeling-for-b...</td>\n",
       "      <td>True</td>\n",
       "      <td>45</td>\n",
       "      <td>2174</td>\n",
       "      <td>74</td>\n",
       "      <td>51</td>\n",
       "      <td>Intermediate Level</td>\n",
       "      <td>2.5 hours</td>\n",
       "      <td>2016-12-19T19:26:30Z</td>\n",
       "      <td>Business Finance</td>\n",
       "      <td>Financial Modeling Business Analysts Consultants</td>\n",
       "    </tr>\n",
       "    <tr>\n",
       "      <th>3</th>\n",
       "      <td>3</td>\n",
       "      <td>1210588</td>\n",
       "      <td>Beginner to Pro - Financial Analysis in Excel ...</td>\n",
       "      <td>https://www.udemy.com/complete-excel-finance-c...</td>\n",
       "      <td>True</td>\n",
       "      <td>95</td>\n",
       "      <td>2451</td>\n",
       "      <td>11</td>\n",
       "      <td>36</td>\n",
       "      <td>All Levels</td>\n",
       "      <td>3 hours</td>\n",
       "      <td>2017-05-30T20:07:24Z</td>\n",
       "      <td>Business Finance</td>\n",
       "      <td>Beginner Pro  Financial Analysis Excel 2017</td>\n",
       "    </tr>\n",
       "    <tr>\n",
       "      <th>4</th>\n",
       "      <td>4</td>\n",
       "      <td>1011058</td>\n",
       "      <td>How To Maximize Your Profits Trading Options</td>\n",
       "      <td>https://www.udemy.com/how-to-maximize-your-pro...</td>\n",
       "      <td>True</td>\n",
       "      <td>200</td>\n",
       "      <td>1276</td>\n",
       "      <td>45</td>\n",
       "      <td>26</td>\n",
       "      <td>Intermediate Level</td>\n",
       "      <td>2 hours</td>\n",
       "      <td>2016-12-13T14:57:18Z</td>\n",
       "      <td>Business Finance</td>\n",
       "      <td>Maximize Profits Trading Options</td>\n",
       "    </tr>\n",
       "    <tr>\n",
       "      <th>...</th>\n",
       "      <td>...</td>\n",
       "      <td>...</td>\n",
       "      <td>...</td>\n",
       "      <td>...</td>\n",
       "      <td>...</td>\n",
       "      <td>...</td>\n",
       "      <td>...</td>\n",
       "      <td>...</td>\n",
       "      <td>...</td>\n",
       "      <td>...</td>\n",
       "      <td>...</td>\n",
       "      <td>...</td>\n",
       "      <td>...</td>\n",
       "      <td>...</td>\n",
       "    </tr>\n",
       "    <tr>\n",
       "      <th>3678</th>\n",
       "      <td>3678</td>\n",
       "      <td>775618</td>\n",
       "      <td>Learn jQuery from Scratch - Master of JavaScri...</td>\n",
       "      <td>https://www.udemy.com/easy-jquery-for-beginner...</td>\n",
       "      <td>True</td>\n",
       "      <td>100</td>\n",
       "      <td>1040</td>\n",
       "      <td>14</td>\n",
       "      <td>21</td>\n",
       "      <td>All Levels</td>\n",
       "      <td>2 hours</td>\n",
       "      <td>2016-06-14T17:36:46Z</td>\n",
       "      <td>Web Development</td>\n",
       "      <td>Learn jQuery Scratch  Master JavaScript library</td>\n",
       "    </tr>\n",
       "    <tr>\n",
       "      <th>3679</th>\n",
       "      <td>3679</td>\n",
       "      <td>1088178</td>\n",
       "      <td>How To Design A WordPress Website With No Codi...</td>\n",
       "      <td>https://www.udemy.com/how-to-make-a-wordpress-...</td>\n",
       "      <td>True</td>\n",
       "      <td>25</td>\n",
       "      <td>306</td>\n",
       "      <td>3</td>\n",
       "      <td>42</td>\n",
       "      <td>Beginner Level</td>\n",
       "      <td>3.5 hours</td>\n",
       "      <td>2017-03-10T22:24:30Z</td>\n",
       "      <td>Web Development</td>\n",
       "      <td>Design WordPress Website Coding</td>\n",
       "    </tr>\n",
       "    <tr>\n",
       "      <th>3680</th>\n",
       "      <td>3680</td>\n",
       "      <td>635248</td>\n",
       "      <td>Learn and Build using Polymer</td>\n",
       "      <td>https://www.udemy.com/learn-and-build-using-po...</td>\n",
       "      <td>True</td>\n",
       "      <td>40</td>\n",
       "      <td>513</td>\n",
       "      <td>169</td>\n",
       "      <td>48</td>\n",
       "      <td>All Levels</td>\n",
       "      <td>3.5 hours</td>\n",
       "      <td>2015-12-30T16:41:42Z</td>\n",
       "      <td>Web Development</td>\n",
       "      <td>Learn Build Polymer</td>\n",
       "    </tr>\n",
       "    <tr>\n",
       "      <th>3681</th>\n",
       "      <td>3681</td>\n",
       "      <td>905096</td>\n",
       "      <td>CSS Animations: Create Amazing Effects on Your...</td>\n",
       "      <td>https://www.udemy.com/css-animations-create-am...</td>\n",
       "      <td>True</td>\n",
       "      <td>50</td>\n",
       "      <td>300</td>\n",
       "      <td>31</td>\n",
       "      <td>38</td>\n",
       "      <td>All Levels</td>\n",
       "      <td>3 hours</td>\n",
       "      <td>2016-08-11T19:06:15Z</td>\n",
       "      <td>Web Development</td>\n",
       "      <td>CSS Animations Create Amazing Effects Website</td>\n",
       "    </tr>\n",
       "    <tr>\n",
       "      <th>3682</th>\n",
       "      <td>3682</td>\n",
       "      <td>297602</td>\n",
       "      <td>Using MODX CMS to Build Websites: A Beginner's...</td>\n",
       "      <td>https://www.udemy.com/using-modx-cms-to-build-...</td>\n",
       "      <td>True</td>\n",
       "      <td>45</td>\n",
       "      <td>901</td>\n",
       "      <td>36</td>\n",
       "      <td>20</td>\n",
       "      <td>Beginner Level</td>\n",
       "      <td>2 hours</td>\n",
       "      <td>2014-09-28T19:51:11Z</td>\n",
       "      <td>Web Development</td>\n",
       "      <td>MODX CMS Build Websites Beginners Guide</td>\n",
       "    </tr>\n",
       "  </tbody>\n",
       "</table>\n",
       "<p>3683 rows × 14 columns</p>\n",
       "</div>"
      ],
      "text/plain": [
       "      Unnamed: 0  course_id  \\\n",
       "0              0    1070968   \n",
       "1              1    1113822   \n",
       "2              2    1006314   \n",
       "3              3    1210588   \n",
       "4              4    1011058   \n",
       "...          ...        ...   \n",
       "3678        3678     775618   \n",
       "3679        3679    1088178   \n",
       "3680        3680     635248   \n",
       "3681        3681     905096   \n",
       "3682        3682     297602   \n",
       "\n",
       "                                           course_title  \\\n",
       "0                    Ultimate Investment Banking Course   \n",
       "1     Complete GST Course & Certification - Grow You...   \n",
       "2     Financial Modeling for Business Analysts and C...   \n",
       "3     Beginner to Pro - Financial Analysis in Excel ...   \n",
       "4          How To Maximize Your Profits Trading Options   \n",
       "...                                                 ...   \n",
       "3678  Learn jQuery from Scratch - Master of JavaScri...   \n",
       "3679  How To Design A WordPress Website With No Codi...   \n",
       "3680                      Learn and Build using Polymer   \n",
       "3681  CSS Animations: Create Amazing Effects on Your...   \n",
       "3682  Using MODX CMS to Build Websites: A Beginner's...   \n",
       "\n",
       "                                                    url is_paid price  \\\n",
       "0     https://www.udemy.com/ultimate-investment-bank...    True   200   \n",
       "1         https://www.udemy.com/goods-and-services-tax/    True    75   \n",
       "2     https://www.udemy.com/financial-modeling-for-b...    True    45   \n",
       "3     https://www.udemy.com/complete-excel-finance-c...    True    95   \n",
       "4     https://www.udemy.com/how-to-maximize-your-pro...    True   200   \n",
       "...                                                 ...     ...   ...   \n",
       "3678  https://www.udemy.com/easy-jquery-for-beginner...    True   100   \n",
       "3679  https://www.udemy.com/how-to-make-a-wordpress-...    True    25   \n",
       "3680  https://www.udemy.com/learn-and-build-using-po...    True    40   \n",
       "3681  https://www.udemy.com/css-animations-create-am...    True    50   \n",
       "3682  https://www.udemy.com/using-modx-cms-to-build-...    True    45   \n",
       "\n",
       "      num_subscribers  num_reviews  num_lectures               level  \\\n",
       "0                2147           23            51          All Levels   \n",
       "1                2792          923           274          All Levels   \n",
       "2                2174           74            51  Intermediate Level   \n",
       "3                2451           11            36          All Levels   \n",
       "4                1276           45            26  Intermediate Level   \n",
       "...               ...          ...           ...                 ...   \n",
       "3678             1040           14            21          All Levels   \n",
       "3679              306            3            42      Beginner Level   \n",
       "3680              513          169            48          All Levels   \n",
       "3681              300           31            38          All Levels   \n",
       "3682              901           36            20      Beginner Level   \n",
       "\n",
       "     content_duration   published_timestamp           subject  \\\n",
       "0           1.5 hours  2017-01-18T20:58:58Z  Business Finance   \n",
       "1            39 hours  2017-03-09T16:34:20Z  Business Finance   \n",
       "2           2.5 hours  2016-12-19T19:26:30Z  Business Finance   \n",
       "3             3 hours  2017-05-30T20:07:24Z  Business Finance   \n",
       "4             2 hours  2016-12-13T14:57:18Z  Business Finance   \n",
       "...               ...                   ...               ...   \n",
       "3678          2 hours  2016-06-14T17:36:46Z   Web Development   \n",
       "3679        3.5 hours  2017-03-10T22:24:30Z   Web Development   \n",
       "3680        3.5 hours  2015-12-30T16:41:42Z   Web Development   \n",
       "3681          3 hours  2016-08-11T19:06:15Z   Web Development   \n",
       "3682          2 hours  2014-09-28T19:51:11Z   Web Development   \n",
       "\n",
       "                                     clean_course_title  \n",
       "0                    Ultimate Investment Banking Course  \n",
       "1     Complete GST Course  Certification  Grow Practice  \n",
       "2      Financial Modeling Business Analysts Consultants  \n",
       "3           Beginner Pro  Financial Analysis Excel 2017  \n",
       "4                      Maximize Profits Trading Options  \n",
       "...                                                 ...  \n",
       "3678    Learn jQuery Scratch  Master JavaScript library  \n",
       "3679                    Design WordPress Website Coding  \n",
       "3680                                Learn Build Polymer  \n",
       "3681      CSS Animations Create Amazing Effects Website  \n",
       "3682            MODX CMS Build Websites Beginners Guide  \n",
       "\n",
       "[3683 rows x 14 columns]"
      ]
     },
     "execution_count": 37,
     "metadata": {},
     "output_type": "execute_result"
    }
   ],
   "source": [
    "df"
   ]
  },
  {
   "cell_type": "code",
   "execution_count": 38,
   "id": "e9cd4cf1-280c-4cb1-9ece-cb38272a9a87",
   "metadata": {},
   "outputs": [
    {
     "data": {
      "text/plain": [
       "Index(['Unnamed: 0', 'course_id', 'course_title', 'url', 'is_paid', 'price',\n",
       "       'num_subscribers', 'num_reviews', 'num_lectures', 'level',\n",
       "       'content_duration', 'published_timestamp', 'subject',\n",
       "       'clean_course_title'],\n",
       "      dtype='object')"
      ]
     },
     "execution_count": 38,
     "metadata": {},
     "output_type": "execute_result"
    }
   ],
   "source": [
    "df.columns"
   ]
  },
  {
   "cell_type": "code",
   "execution_count": 39,
   "id": "7dbb385d-dcf4-47df-987a-1ed66b5319ab",
   "metadata": {},
   "outputs": [],
   "source": [
    "def func_draw(x):\n",
    "    plt.figure(figsize=(10,5))\n",
    "    sns.barplot(x='level',y=x,data=df,hue='subject',ci=None)\n",
    "    plt.title('plot of {} per level per subject'.format(x))\n",
    "    plt.show()\n",
    "    #pie chart\n",
    "    plt.figure(figsize=(5,5))\n",
    "    df.groupby('level')[x].sum().plot(kind='pie')\n",
    "    plt.title('plot of {} per level'.format(x))\n",
    "    plt.show()\n",
    "    "
   ]
  },
  {
   "cell_type": "code",
   "execution_count": 40,
   "id": "39994fa7-1b56-4073-89d5-f47aa26fc51e",
   "metadata": {},
   "outputs": [
    {
     "name": "stderr",
     "output_type": "stream",
     "text": [
      "C:\\Users\\hp\\AppData\\Local\\Temp\\ipykernel_2136\\3374077051.py:3: FutureWarning: \n",
      "\n",
      "The `ci` parameter is deprecated. Use `errorbar=None` for the same effect.\n",
      "\n",
      "  sns.barplot(x='level',y=x,data=df,hue='subject',ci=None)\n"
     ]
    },
    {
     "data": {
      "image/png": "[encoded data removed]",
      "text/plain": [
       "<Figure size 1000x500 with 1 Axes>"
      ]
     },
     "metadata": {},
     "output_type": "display_data"
    },
    {
     "data": {
      "image/png": "[encoded data removed]",
      "text/plain": [
       "<Figure size 500x500 with 1 Axes>"
      ]
     },
     "metadata": {},
     "output_type": "display_data"
    }
   ],
   "source": [
    "func_draw('num_subscribers')"
   ]
  },
  {
   "cell_type": "markdown",
   "id": "94d5baf2-dea8-432e-8b1e-26c29af2a448",
   "metadata": {
    "jp-MarkdownHeadingCollapsed": true
   },
   "source": [
    "# price"
   ]
  },
  {
   "cell_type": "code",
   "execution_count": 42,
   "id": "12c65a6a-fe0f-4e08-aaf7-acd5ca7138ed",
   "metadata": {},
   "outputs": [
    {
     "data": {
      "text/plain": [
       "dtype('O')"
      ]
     },
     "execution_count": 42,
     "metadata": {},
     "output_type": "execute_result"
    }
   ],
   "source": [
    "df['price'].dtype"
   ]
  },
  {
   "cell_type": "code",
   "execution_count": 43,
   "id": "3bf49d30-24b7-4f58-8ef3-6ab6198be2ef",
   "metadata": {},
   "outputs": [
    {
     "data": {
      "text/plain": [
       "array(['200', '75', '45', '95', '150', '65', '195', '30', '20', '50',\n",
       "       '175', '140', '115', '190', '125', '60', '145', '105', '155',\n",
       "       '185', '180', '120', '25', '160', '40', 'Free', '100', '90', '35',\n",
       "       '80', '70', '55', '165', '130', '85', '170', '110', '135', 'TRUE'],\n",
       "      dtype=object)"
      ]
     },
     "execution_count": 43,
     "metadata": {},
     "output_type": "execute_result"
    }
   ],
   "source": [
    "df['price'].unique()"
   ]
  },
  {
   "cell_type": "code",
   "execution_count": 44,
   "id": "b3e8b0d2-4104-4e6c-80ac-66ce860e04a5",
   "metadata": {},
   "outputs": [],
   "source": [
    "df['price']=df['price'].str.replace('Free|TRUE','0',regex=True)"
   ]
  },
  {
   "cell_type": "code",
   "execution_count": 45,
   "id": "9daab8d7-d401-4962-9158-771156a89d03",
   "metadata": {},
   "outputs": [
    {
     "data": {
      "text/plain": [
       "array(['200', '75', '45', '95', '150', '65', '195', '30', '20', '50',\n",
       "       '175', '140', '115', '190', '125', '60', '145', '105', '155',\n",
       "       '185', '180', '120', '25', '160', '40', '0', '100', '90', '35',\n",
       "       '80', '70', '55', '165', '130', '85', '170', '110', '135'],\n",
       "      dtype=object)"
      ]
     },
     "execution_count": 45,
     "metadata": {},
     "output_type": "execute_result"
    }
   ],
   "source": [
    "df['price'].unique()"
   ]
  },
  {
   "cell_type": "code",
   "execution_count": 46,
   "id": "8ddf56b8-ce6e-44b7-ab7b-c335a6c66776",
   "metadata": {},
   "outputs": [],
   "source": [
    "df['price']=df['price'].astype(float)"
   ]
  },
  {
   "cell_type": "code",
   "execution_count": 47,
   "id": "e3cf9814-92ef-407c-a6f5-f8f7964e73ad",
   "metadata": {},
   "outputs": [
    {
     "data": {
      "text/plain": [
       "dtype('float64')"
      ]
     },
     "execution_count": 47,
     "metadata": {},
     "output_type": "execute_result"
    }
   ],
   "source": [
    "df['price'].dtype"
   ]
  },
  {
   "cell_type": "code",
   "execution_count": 48,
   "id": "c731cf5f-b3f2-45c9-97e1-5c1c349981c0",
   "metadata": {},
   "outputs": [
    {
     "data": {
      "text/plain": [
       "65.99239750203638"
      ]
     },
     "execution_count": 48,
     "metadata": {},
     "output_type": "execute_result"
    }
   ],
   "source": [
    "df['price'].mean()"
   ]
  },
  {
   "cell_type": "code",
   "execution_count": 49,
   "id": "421268dc-c490-46e0-a46c-bc84785442f8",
   "metadata": {},
   "outputs": [
    {
     "data": {
      "text/plain": [
       "200.0"
      ]
     },
     "execution_count": 49,
     "metadata": {},
     "output_type": "execute_result"
    }
   ],
   "source": [
    "df['price'].max()"
   ]
  },
  {
   "cell_type": "code",
   "execution_count": 50,
   "id": "ec958b18-5c62-48b8-a877-4c45b3b7bccc",
   "metadata": {},
   "outputs": [
    {
     "data": {
      "text/plain": [
       "0.0"
      ]
     },
     "execution_count": 50,
     "metadata": {},
     "output_type": "execute_result"
    }
   ],
   "source": [
    "df['price'].min()"
   ]
  },
  {
   "cell_type": "code",
   "execution_count": 51,
   "id": "d40cb93a-aa5d-44b7-9cf6-15d948600f90",
   "metadata": {},
   "outputs": [
    {
     "data": {
      "text/plain": [
       "0"
      ]
     },
     "execution_count": 51,
     "metadata": {},
     "output_type": "execute_result"
    }
   ],
   "source": [
    "df['price'].idxmax()"
   ]
  },
  {
   "cell_type": "code",
   "execution_count": 52,
   "id": "5c075ff6-9d0c-4b34-b0d4-c9d9d06ff79f",
   "metadata": {},
   "outputs": [
    {
     "data": {
      "text/plain": [
       "Unnamed: 0                                                             0\n",
       "course_id                                                        1070968\n",
       "course_title                          Ultimate Investment Banking Course\n",
       "url                    https://www.udemy.com/ultimate-investment-bank...\n",
       "is_paid                                                             True\n",
       "price                                                              200.0\n",
       "num_subscribers                                                     2147\n",
       "num_reviews                                                           23\n",
       "num_lectures                                                          51\n",
       "level                                                         All Levels\n",
       "content_duration                                               1.5 hours\n",
       "published_timestamp                                 2017-01-18T20:58:58Z\n",
       "subject                                                 Business Finance\n",
       "clean_course_title                    Ultimate Investment Banking Course\n",
       "Name: 0, dtype: object"
      ]
     },
     "execution_count": 52,
     "metadata": {},
     "output_type": "execute_result"
    }
   ],
   "source": [
    "df.iloc[0]"
   ]
  },
  {
   "cell_type": "code",
   "execution_count": 53,
   "id": "30724f72-9b38-498f-a148-ba2a40d19767",
   "metadata": {},
   "outputs": [],
   "source": [
    "df['profit']=df['price']*df['num_subscribers']"
   ]
  },
  {
   "cell_type": "code",
   "execution_count": 54,
   "id": "0a94fd42-3033-440c-9bdf-86ce772e67c7",
   "metadata": {},
   "outputs": [
    {
     "data": {
      "text/plain": [
       "24316800.0"
      ]
     },
     "execution_count": 54,
     "metadata": {},
     "output_type": "execute_result"
    }
   ],
   "source": [
    "df['profit'].max()"
   ]
  },
  {
   "cell_type": "code",
   "execution_count": 55,
   "id": "0a64f1e8-ff99-4eb3-b981-6fea3f299fe6",
   "metadata": {},
   "outputs": [
    {
     "data": {
      "text/plain": [
       "3235"
      ]
     },
     "execution_count": 55,
     "metadata": {},
     "output_type": "execute_result"
    }
   ],
   "source": [
    "df['profit'].idxmax()"
   ]
  },
  {
   "cell_type": "code",
   "execution_count": 56,
   "id": "cb66ad52-a2c5-4fe3-9482-bfb7664e732d",
   "metadata": {},
   "outputs": [
    {
     "data": {
      "text/plain": [
       "Unnamed: 0                                                          3235\n",
       "course_id                                                         625204\n",
       "course_title                                  The Web Developer Bootcamp\n",
       "url                    https://www.udemy.com/the-web-developer-bootcamp/\n",
       "is_paid                                                             True\n",
       "price                                                              200.0\n",
       "num_subscribers                                                   121584\n",
       "num_reviews                                                        27445\n",
       "num_lectures                                                         342\n",
       "level                                                         All Levels\n",
       "content_duration                                                43 hours\n",
       "published_timestamp                                 2015-11-02T21:13:27Z\n",
       "subject                                                  Web Development\n",
       "clean_course_title                                Web Developer Bootcamp\n",
       "profit                                                        24316800.0\n",
       "Name: 3235, dtype: object"
      ]
     },
     "execution_count": 56,
     "metadata": {},
     "output_type": "execute_result"
    }
   ],
   "source": [
    "df.iloc[3235]"
   ]
  },
  {
   "cell_type": "markdown",
   "id": "cb88512d-3311-45ef-8d9c-c0f411fab67a",
   "metadata": {
    "jp-MarkdownHeadingCollapsed": true
   },
   "source": [
    "# is paid"
   ]
  },
  {
   "cell_type": "code",
   "execution_count": 58,
   "id": "d63e7271-cbe1-437d-81b1-e659f838f46a",
   "metadata": {},
   "outputs": [
    {
     "data": {
      "text/html": [
       "<div>\n",
       "<style scoped>\n",
       "    .dataframe tbody tr th:only-of-type {\n",
       "        vertical-align: middle;\n",
       "    }\n",
       "\n",
       "    .dataframe tbody tr th {\n",
       "        vertical-align: top;\n",
       "    }\n",
       "\n",
       "    .dataframe thead th {\n",
       "        text-align: right;\n",
       "    }\n",
       "</style>\n",
       "<table border=\"1\" class=\"dataframe\">\n",
       "  <thead>\n",
       "    <tr style=\"text-align: right;\">\n",
       "      <th></th>\n",
       "      <th>Unnamed: 0</th>\n",
       "      <th>course_id</th>\n",
       "      <th>course_title</th>\n",
       "      <th>url</th>\n",
       "      <th>is_paid</th>\n",
       "      <th>price</th>\n",
       "      <th>num_subscribers</th>\n",
       "      <th>num_reviews</th>\n",
       "      <th>num_lectures</th>\n",
       "      <th>level</th>\n",
       "      <th>content_duration</th>\n",
       "      <th>published_timestamp</th>\n",
       "      <th>subject</th>\n",
       "      <th>clean_course_title</th>\n",
       "      <th>profit</th>\n",
       "    </tr>\n",
       "  </thead>\n",
       "  <tbody>\n",
       "    <tr>\n",
       "      <th>0</th>\n",
       "      <td>0</td>\n",
       "      <td>1070968</td>\n",
       "      <td>Ultimate Investment Banking Course</td>\n",
       "      <td>https://www.udemy.com/ultimate-investment-bank...</td>\n",
       "      <td>True</td>\n",
       "      <td>200.0</td>\n",
       "      <td>2147</td>\n",
       "      <td>23</td>\n",
       "      <td>51</td>\n",
       "      <td>All Levels</td>\n",
       "      <td>1.5 hours</td>\n",
       "      <td>2017-01-18T20:58:58Z</td>\n",
       "      <td>Business Finance</td>\n",
       "      <td>Ultimate Investment Banking Course</td>\n",
       "      <td>429400.0</td>\n",
       "    </tr>\n",
       "    <tr>\n",
       "      <th>1</th>\n",
       "      <td>1</td>\n",
       "      <td>1113822</td>\n",
       "      <td>Complete GST Course &amp; Certification - Grow You...</td>\n",
       "      <td>https://www.udemy.com/goods-and-services-tax/</td>\n",
       "      <td>True</td>\n",
       "      <td>75.0</td>\n",
       "      <td>2792</td>\n",
       "      <td>923</td>\n",
       "      <td>274</td>\n",
       "      <td>All Levels</td>\n",
       "      <td>39 hours</td>\n",
       "      <td>2017-03-09T16:34:20Z</td>\n",
       "      <td>Business Finance</td>\n",
       "      <td>Complete GST Course  Certification  Grow Practice</td>\n",
       "      <td>209400.0</td>\n",
       "    </tr>\n",
       "    <tr>\n",
       "      <th>2</th>\n",
       "      <td>2</td>\n",
       "      <td>1006314</td>\n",
       "      <td>Financial Modeling for Business Analysts and C...</td>\n",
       "      <td>https://www.udemy.com/financial-modeling-for-b...</td>\n",
       "      <td>True</td>\n",
       "      <td>45.0</td>\n",
       "      <td>2174</td>\n",
       "      <td>74</td>\n",
       "      <td>51</td>\n",
       "      <td>Intermediate Level</td>\n",
       "      <td>2.5 hours</td>\n",
       "      <td>2016-12-19T19:26:30Z</td>\n",
       "      <td>Business Finance</td>\n",
       "      <td>Financial Modeling Business Analysts Consultants</td>\n",
       "      <td>97830.0</td>\n",
       "    </tr>\n",
       "    <tr>\n",
       "      <th>3</th>\n",
       "      <td>3</td>\n",
       "      <td>1210588</td>\n",
       "      <td>Beginner to Pro - Financial Analysis in Excel ...</td>\n",
       "      <td>https://www.udemy.com/complete-excel-finance-c...</td>\n",
       "      <td>True</td>\n",
       "      <td>95.0</td>\n",
       "      <td>2451</td>\n",
       "      <td>11</td>\n",
       "      <td>36</td>\n",
       "      <td>All Levels</td>\n",
       "      <td>3 hours</td>\n",
       "      <td>2017-05-30T20:07:24Z</td>\n",
       "      <td>Business Finance</td>\n",
       "      <td>Beginner Pro  Financial Analysis Excel 2017</td>\n",
       "      <td>232845.0</td>\n",
       "    </tr>\n",
       "    <tr>\n",
       "      <th>4</th>\n",
       "      <td>4</td>\n",
       "      <td>1011058</td>\n",
       "      <td>How To Maximize Your Profits Trading Options</td>\n",
       "      <td>https://www.udemy.com/how-to-maximize-your-pro...</td>\n",
       "      <td>True</td>\n",
       "      <td>200.0</td>\n",
       "      <td>1276</td>\n",
       "      <td>45</td>\n",
       "      <td>26</td>\n",
       "      <td>Intermediate Level</td>\n",
       "      <td>2 hours</td>\n",
       "      <td>2016-12-13T14:57:18Z</td>\n",
       "      <td>Business Finance</td>\n",
       "      <td>Maximize Profits Trading Options</td>\n",
       "      <td>255200.0</td>\n",
       "    </tr>\n",
       "    <tr>\n",
       "      <th>...</th>\n",
       "      <td>...</td>\n",
       "      <td>...</td>\n",
       "      <td>...</td>\n",
       "      <td>...</td>\n",
       "      <td>...</td>\n",
       "      <td>...</td>\n",
       "      <td>...</td>\n",
       "      <td>...</td>\n",
       "      <td>...</td>\n",
       "      <td>...</td>\n",
       "      <td>...</td>\n",
       "      <td>...</td>\n",
       "      <td>...</td>\n",
       "      <td>...</td>\n",
       "      <td>...</td>\n",
       "    </tr>\n",
       "    <tr>\n",
       "      <th>3678</th>\n",
       "      <td>3678</td>\n",
       "      <td>775618</td>\n",
       "      <td>Learn jQuery from Scratch - Master of JavaScri...</td>\n",
       "      <td>https://www.udemy.com/easy-jquery-for-beginner...</td>\n",
       "      <td>True</td>\n",
       "      <td>100.0</td>\n",
       "      <td>1040</td>\n",
       "      <td>14</td>\n",
       "      <td>21</td>\n",
       "      <td>All Levels</td>\n",
       "      <td>2 hours</td>\n",
       "      <td>2016-06-14T17:36:46Z</td>\n",
       "      <td>Web Development</td>\n",
       "      <td>Learn jQuery Scratch  Master JavaScript library</td>\n",
       "      <td>104000.0</td>\n",
       "    </tr>\n",
       "    <tr>\n",
       "      <th>3679</th>\n",
       "      <td>3679</td>\n",
       "      <td>1088178</td>\n",
       "      <td>How To Design A WordPress Website With No Codi...</td>\n",
       "      <td>https://www.udemy.com/how-to-make-a-wordpress-...</td>\n",
       "      <td>True</td>\n",
       "      <td>25.0</td>\n",
       "      <td>306</td>\n",
       "      <td>3</td>\n",
       "      <td>42</td>\n",
       "      <td>Beginner Level</td>\n",
       "      <td>3.5 hours</td>\n",
       "      <td>2017-03-10T22:24:30Z</td>\n",
       "      <td>Web Development</td>\n",
       "      <td>Design WordPress Website Coding</td>\n",
       "      <td>7650.0</td>\n",
       "    </tr>\n",
       "    <tr>\n",
       "      <th>3680</th>\n",
       "      <td>3680</td>\n",
       "      <td>635248</td>\n",
       "      <td>Learn and Build using Polymer</td>\n",
       "      <td>https://www.udemy.com/learn-and-build-using-po...</td>\n",
       "      <td>True</td>\n",
       "      <td>40.0</td>\n",
       "      <td>513</td>\n",
       "      <td>169</td>\n",
       "      <td>48</td>\n",
       "      <td>All Levels</td>\n",
       "      <td>3.5 hours</td>\n",
       "      <td>2015-12-30T16:41:42Z</td>\n",
       "      <td>Web Development</td>\n",
       "      <td>Learn Build Polymer</td>\n",
       "      <td>20520.0</td>\n",
       "    </tr>\n",
       "    <tr>\n",
       "      <th>3681</th>\n",
       "      <td>3681</td>\n",
       "      <td>905096</td>\n",
       "      <td>CSS Animations: Create Amazing Effects on Your...</td>\n",
       "      <td>https://www.udemy.com/css-animations-create-am...</td>\n",
       "      <td>True</td>\n",
       "      <td>50.0</td>\n",
       "      <td>300</td>\n",
       "      <td>31</td>\n",
       "      <td>38</td>\n",
       "      <td>All Levels</td>\n",
       "      <td>3 hours</td>\n",
       "      <td>2016-08-11T19:06:15Z</td>\n",
       "      <td>Web Development</td>\n",
       "      <td>CSS Animations Create Amazing Effects Website</td>\n",
       "      <td>15000.0</td>\n",
       "    </tr>\n",
       "    <tr>\n",
       "      <th>3682</th>\n",
       "      <td>3682</td>\n",
       "      <td>297602</td>\n",
       "      <td>Using MODX CMS to Build Websites: A Beginner's...</td>\n",
       "      <td>https://www.udemy.com/using-modx-cms-to-build-...</td>\n",
       "      <td>True</td>\n",
       "      <td>45.0</td>\n",
       "      <td>901</td>\n",
       "      <td>36</td>\n",
       "      <td>20</td>\n",
       "      <td>Beginner Level</td>\n",
       "      <td>2 hours</td>\n",
       "      <td>2014-09-28T19:51:11Z</td>\n",
       "      <td>Web Development</td>\n",
       "      <td>MODX CMS Build Websites Beginners Guide</td>\n",
       "      <td>40545.0</td>\n",
       "    </tr>\n",
       "  </tbody>\n",
       "</table>\n",
       "<p>3683 rows × 15 columns</p>\n",
       "</div>"
      ],
      "text/plain": [
       "      Unnamed: 0  course_id  \\\n",
       "0              0    1070968   \n",
       "1              1    1113822   \n",
       "2              2    1006314   \n",
       "3              3    1210588   \n",
       "4              4    1011058   \n",
       "...          ...        ...   \n",
       "3678        3678     775618   \n",
       "3679        3679    1088178   \n",
       "3680        3680     635248   \n",
       "3681        3681     905096   \n",
       "3682        3682     297602   \n",
       "\n",
       "                                           course_title  \\\n",
       "0                    Ultimate Investment Banking Course   \n",
       "1     Complete GST Course & Certification - Grow You...   \n",
       "2     Financial Modeling for Business Analysts and C...   \n",
       "3     Beginner to Pro - Financial Analysis in Excel ...   \n",
       "4          How To Maximize Your Profits Trading Options   \n",
       "...                                                 ...   \n",
       "3678  Learn jQuery from Scratch - Master of JavaScri...   \n",
       "3679  How To Design A WordPress Website With No Codi...   \n",
       "3680                      Learn and Build using Polymer   \n",
       "3681  CSS Animations: Create Amazing Effects on Your...   \n",
       "3682  Using MODX CMS to Build Websites: A Beginner's...   \n",
       "\n",
       "                                                    url is_paid  price  \\\n",
       "0     https://www.udemy.com/ultimate-investment-bank...    True  200.0   \n",
       "1         https://www.udemy.com/goods-and-services-tax/    True   75.0   \n",
       "2     https://www.udemy.com/financial-modeling-for-b...    True   45.0   \n",
       "3     https://www.udemy.com/complete-excel-finance-c...    True   95.0   \n",
       "4     https://www.udemy.com/how-to-maximize-your-pro...    True  200.0   \n",
       "...                                                 ...     ...    ...   \n",
       "3678  https://www.udemy.com/easy-jquery-for-beginner...    True  100.0   \n",
       "3679  https://www.udemy.com/how-to-make-a-wordpress-...    True   25.0   \n",
       "3680  https://www.udemy.com/learn-and-build-using-po...    True   40.0   \n",
       "3681  https://www.udemy.com/css-animations-create-am...    True   50.0   \n",
       "3682  https://www.udemy.com/using-modx-cms-to-build-...    True   45.0   \n",
       "\n",
       "      num_subscribers  num_reviews  num_lectures               level  \\\n",
       "0                2147           23            51          All Levels   \n",
       "1                2792          923           274          All Levels   \n",
       "2                2174           74            51  Intermediate Level   \n",
       "3                2451           11            36          All Levels   \n",
       "4                1276           45            26  Intermediate Level   \n",
       "...               ...          ...           ...                 ...   \n",
       "3678             1040           14            21          All Levels   \n",
       "3679              306            3            42      Beginner Level   \n",
       "3680              513          169            48          All Levels   \n",
       "3681              300           31            38          All Levels   \n",
       "3682              901           36            20      Beginner Level   \n",
       "\n",
       "     content_duration   published_timestamp           subject  \\\n",
       "0           1.5 hours  2017-01-18T20:58:58Z  Business Finance   \n",
       "1            39 hours  2017-03-09T16:34:20Z  Business Finance   \n",
       "2           2.5 hours  2016-12-19T19:26:30Z  Business Finance   \n",
       "3             3 hours  2017-05-30T20:07:24Z  Business Finance   \n",
       "4             2 hours  2016-12-13T14:57:18Z  Business Finance   \n",
       "...               ...                   ...               ...   \n",
       "3678          2 hours  2016-06-14T17:36:46Z   Web Development   \n",
       "3679        3.5 hours  2017-03-10T22:24:30Z   Web Development   \n",
       "3680        3.5 hours  2015-12-30T16:41:42Z   Web Development   \n",
       "3681          3 hours  2016-08-11T19:06:15Z   Web Development   \n",
       "3682          2 hours  2014-09-28T19:51:11Z   Web Development   \n",
       "\n",
       "                                     clean_course_title    profit  \n",
       "0                    Ultimate Investment Banking Course  429400.0  \n",
       "1     Complete GST Course  Certification  Grow Practice  209400.0  \n",
       "2      Financial Modeling Business Analysts Consultants   97830.0  \n",
       "3           Beginner Pro  Financial Analysis Excel 2017  232845.0  \n",
       "4                      Maximize Profits Trading Options  255200.0  \n",
       "...                                                 ...       ...  \n",
       "3678    Learn jQuery Scratch  Master JavaScript library  104000.0  \n",
       "3679                    Design WordPress Website Coding    7650.0  \n",
       "3680                                Learn Build Polymer   20520.0  \n",
       "3681      CSS Animations Create Amazing Effects Website   15000.0  \n",
       "3682            MODX CMS Build Websites Beginners Guide   40545.0  \n",
       "\n",
       "[3683 rows x 15 columns]"
      ]
     },
     "execution_count": 58,
     "metadata": {},
     "output_type": "execute_result"
    }
   ],
   "source": [
    "df"
   ]
  },
  {
   "cell_type": "code",
   "execution_count": 59,
   "id": "08e6723f-3b25-4653-a0b1-a2fbbe602f81",
   "metadata": {},
   "outputs": [
    {
     "data": {
      "text/plain": [
       "is_paid\n",
       "True                                           2738\n",
       "TRUE                                            634\n",
       "False                                           264\n",
       "FALSE                                            46\n",
       "https://www.udemy.com/learnguitartoworship/       1\n",
       "Name: count, dtype: int64"
      ]
     },
     "execution_count": 59,
     "metadata": {},
     "output_type": "execute_result"
    }
   ],
   "source": [
    "df['is_paid'].value_counts()"
   ]
  },
  {
   "cell_type": "code",
   "execution_count": 60,
   "id": "6cd7aa7e-f01d-43e3-89ea-83589f3df992",
   "metadata": {},
   "outputs": [],
   "source": [
    "paid_dict={'True':True,'TRUE':True,'https://www.udemy.com/learnguitartoworship/':True,'False':False,'FALSE':False}"
   ]
  },
  {
   "cell_type": "code",
   "execution_count": 61,
   "id": "0c9f5edc-411c-4fe0-9299-9074456b1d93",
   "metadata": {},
   "outputs": [],
   "source": [
    "df['is_paid']=df['is_paid'].map(paid_dict)"
   ]
  },
  {
   "cell_type": "code",
   "execution_count": 62,
   "id": "c03edac7-4d94-4f36-b838-919eb40ce964",
   "metadata": {},
   "outputs": [
    {
     "data": {
      "image/png": "[encoded data removed]",
      "text/plain": [
       "<Figure size 640x480 with 1 Axes>"
      ]
     },
     "metadata": {},
     "output_type": "display_data"
    }
   ],
   "source": [
    "df['is_paid'].value_counts().plot(kind='bar')\n",
    "plt.show()"
   ]
  },
  {
   "cell_type": "code",
   "execution_count": 63,
   "id": "b4da4b7a-4824-41cc-9f8d-e8fdf06ca31b",
   "metadata": {},
   "outputs": [
    {
     "data": {
      "image/png": "[encoded data removed]",
      "text/plain": [
       "<Figure size 700x700 with 1 Axes>"
      ]
     },
     "metadata": {},
     "output_type": "display_data"
    }
   ],
   "source": [
    "plt.figure(figsize=(7,7))\n",
    "sns.countplot(x=df['is_paid'])\n",
    "plt.show()"
   ]
  },
  {
   "cell_type": "code",
   "execution_count": 64,
   "id": "803e6017-6e8e-4679-ba61-9e2f14eaaabd",
   "metadata": {},
   "outputs": [
    {
     "data": {
      "text/plain": [
       "array(['Business Finance', 'Graphic Design', 'Musical Instruments',\n",
       "       'Web Development'], dtype=object)"
      ]
     },
     "execution_count": 64,
     "metadata": {},
     "output_type": "execute_result"
    }
   ],
   "source": [
    "df['subject'].unique()"
   ]
  },
  {
   "cell_type": "code",
   "execution_count": 65,
   "id": "3a027235-4edd-433b-9400-8606ac2f01d6",
   "metadata": {},
   "outputs": [
    {
     "data": {
      "image/png": "[encoded data removed]",
      "text/plain": [
       "<Figure size 640x480 with 1 Axes>"
      ]
     },
     "metadata": {},
     "output_type": "display_data"
    }
   ],
   "source": [
    "df.groupby('is_paid')['subject'].value_counts().plot(kind='bar')\n",
    "plt.show()"
   ]
  },
  {
   "cell_type": "code",
   "execution_count": 66,
   "id": "d0bb7d2f-4ac3-41ef-bade-260a40cfe3f6",
   "metadata": {},
   "outputs": [
    {
     "data": {
      "text/plain": [
       "0       34\n",
       "1       59\n",
       "2       56\n",
       "3       50\n",
       "4       44\n",
       "        ..\n",
       "3678    56\n",
       "3679    55\n",
       "3680    29\n",
       "3681    54\n",
       "3682    52\n",
       "Name: course_title, Length: 3683, dtype: int64"
      ]
     },
     "execution_count": 66,
     "metadata": {},
     "output_type": "execute_result"
    }
   ],
   "source": [
    "df['course_title'].str.len()"
   ]
  },
  {
   "cell_type": "code",
   "execution_count": 67,
   "id": "98c51c6f-f027-4127-8661-d2e6495eb503",
   "metadata": {},
   "outputs": [],
   "source": [
    "df['course_title_len']=df['course_title'].str.len()"
   ]
  },
  {
   "cell_type": "code",
   "execution_count": 68,
   "id": "0f789b28-45be-4bdf-9117-85a8cb99ed14",
   "metadata": {},
   "outputs": [
    {
     "data": {
      "text/html": [
       "<div>\n",
       "<style scoped>\n",
       "    .dataframe tbody tr th:only-of-type {\n",
       "        vertical-align: middle;\n",
       "    }\n",
       "\n",
       "    .dataframe tbody tr th {\n",
       "        vertical-align: top;\n",
       "    }\n",
       "\n",
       "    .dataframe thead th {\n",
       "        text-align: right;\n",
       "    }\n",
       "</style>\n",
       "<table border=\"1\" class=\"dataframe\">\n",
       "  <thead>\n",
       "    <tr style=\"text-align: right;\">\n",
       "      <th></th>\n",
       "      <th>Unnamed: 0</th>\n",
       "      <th>course_id</th>\n",
       "      <th>course_title</th>\n",
       "      <th>url</th>\n",
       "      <th>is_paid</th>\n",
       "      <th>price</th>\n",
       "      <th>num_subscribers</th>\n",
       "      <th>num_reviews</th>\n",
       "      <th>num_lectures</th>\n",
       "      <th>level</th>\n",
       "      <th>content_duration</th>\n",
       "      <th>published_timestamp</th>\n",
       "      <th>subject</th>\n",
       "      <th>clean_course_title</th>\n",
       "      <th>profit</th>\n",
       "      <th>course_title_len</th>\n",
       "    </tr>\n",
       "  </thead>\n",
       "  <tbody>\n",
       "    <tr>\n",
       "      <th>0</th>\n",
       "      <td>0</td>\n",
       "      <td>1070968</td>\n",
       "      <td>Ultimate Investment Banking Course</td>\n",
       "      <td>https://www.udemy.com/ultimate-investment-bank...</td>\n",
       "      <td>True</td>\n",
       "      <td>200.0</td>\n",
       "      <td>2147</td>\n",
       "      <td>23</td>\n",
       "      <td>51</td>\n",
       "      <td>All Levels</td>\n",
       "      <td>1.5 hours</td>\n",
       "      <td>2017-01-18T20:58:58Z</td>\n",
       "      <td>Business Finance</td>\n",
       "      <td>Ultimate Investment Banking Course</td>\n",
       "      <td>429400.0</td>\n",
       "      <td>34</td>\n",
       "    </tr>\n",
       "    <tr>\n",
       "      <th>1</th>\n",
       "      <td>1</td>\n",
       "      <td>1113822</td>\n",
       "      <td>Complete GST Course &amp; Certification - Grow You...</td>\n",
       "      <td>https://www.udemy.com/goods-and-services-tax/</td>\n",
       "      <td>True</td>\n",
       "      <td>75.0</td>\n",
       "      <td>2792</td>\n",
       "      <td>923</td>\n",
       "      <td>274</td>\n",
       "      <td>All Levels</td>\n",
       "      <td>39 hours</td>\n",
       "      <td>2017-03-09T16:34:20Z</td>\n",
       "      <td>Business Finance</td>\n",
       "      <td>Complete GST Course  Certification  Grow Practice</td>\n",
       "      <td>209400.0</td>\n",
       "      <td>59</td>\n",
       "    </tr>\n",
       "    <tr>\n",
       "      <th>2</th>\n",
       "      <td>2</td>\n",
       "      <td>1006314</td>\n",
       "      <td>Financial Modeling for Business Analysts and C...</td>\n",
       "      <td>https://www.udemy.com/financial-modeling-for-b...</td>\n",
       "      <td>True</td>\n",
       "      <td>45.0</td>\n",
       "      <td>2174</td>\n",
       "      <td>74</td>\n",
       "      <td>51</td>\n",
       "      <td>Intermediate Level</td>\n",
       "      <td>2.5 hours</td>\n",
       "      <td>2016-12-19T19:26:30Z</td>\n",
       "      <td>Business Finance</td>\n",
       "      <td>Financial Modeling Business Analysts Consultants</td>\n",
       "      <td>97830.0</td>\n",
       "      <td>56</td>\n",
       "    </tr>\n",
       "    <tr>\n",
       "      <th>3</th>\n",
       "      <td>3</td>\n",
       "      <td>1210588</td>\n",
       "      <td>Beginner to Pro - Financial Analysis in Excel ...</td>\n",
       "      <td>https://www.udemy.com/complete-excel-finance-c...</td>\n",
       "      <td>True</td>\n",
       "      <td>95.0</td>\n",
       "      <td>2451</td>\n",
       "      <td>11</td>\n",
       "      <td>36</td>\n",
       "      <td>All Levels</td>\n",
       "      <td>3 hours</td>\n",
       "      <td>2017-05-30T20:07:24Z</td>\n",
       "      <td>Business Finance</td>\n",
       "      <td>Beginner Pro  Financial Analysis Excel 2017</td>\n",
       "      <td>232845.0</td>\n",
       "      <td>50</td>\n",
       "    </tr>\n",
       "    <tr>\n",
       "      <th>4</th>\n",
       "      <td>4</td>\n",
       "      <td>1011058</td>\n",
       "      <td>How To Maximize Your Profits Trading Options</td>\n",
       "      <td>https://www.udemy.com/how-to-maximize-your-pro...</td>\n",
       "      <td>True</td>\n",
       "      <td>200.0</td>\n",
       "      <td>1276</td>\n",
       "      <td>45</td>\n",
       "      <td>26</td>\n",
       "      <td>Intermediate Level</td>\n",
       "      <td>2 hours</td>\n",
       "      <td>2016-12-13T14:57:18Z</td>\n",
       "      <td>Business Finance</td>\n",
       "      <td>Maximize Profits Trading Options</td>\n",
       "      <td>255200.0</td>\n",
       "      <td>44</td>\n",
       "    </tr>\n",
       "    <tr>\n",
       "      <th>...</th>\n",
       "      <td>...</td>\n",
       "      <td>...</td>\n",
       "      <td>...</td>\n",
       "      <td>...</td>\n",
       "      <td>...</td>\n",
       "      <td>...</td>\n",
       "      <td>...</td>\n",
       "      <td>...</td>\n",
       "      <td>...</td>\n",
       "      <td>...</td>\n",
       "      <td>...</td>\n",
       "      <td>...</td>\n",
       "      <td>...</td>\n",
       "      <td>...</td>\n",
       "      <td>...</td>\n",
       "      <td>...</td>\n",
       "    </tr>\n",
       "    <tr>\n",
       "      <th>3678</th>\n",
       "      <td>3678</td>\n",
       "      <td>775618</td>\n",
       "      <td>Learn jQuery from Scratch - Master of JavaScri...</td>\n",
       "      <td>https://www.udemy.com/easy-jquery-for-beginner...</td>\n",
       "      <td>True</td>\n",
       "      <td>100.0</td>\n",
       "      <td>1040</td>\n",
       "      <td>14</td>\n",
       "      <td>21</td>\n",
       "      <td>All Levels</td>\n",
       "      <td>2 hours</td>\n",
       "      <td>2016-06-14T17:36:46Z</td>\n",
       "      <td>Web Development</td>\n",
       "      <td>Learn jQuery Scratch  Master JavaScript library</td>\n",
       "      <td>104000.0</td>\n",
       "      <td>56</td>\n",
       "    </tr>\n",
       "    <tr>\n",
       "      <th>3679</th>\n",
       "      <td>3679</td>\n",
       "      <td>1088178</td>\n",
       "      <td>How To Design A WordPress Website With No Codi...</td>\n",
       "      <td>https://www.udemy.com/how-to-make-a-wordpress-...</td>\n",
       "      <td>True</td>\n",
       "      <td>25.0</td>\n",
       "      <td>306</td>\n",
       "      <td>3</td>\n",
       "      <td>42</td>\n",
       "      <td>Beginner Level</td>\n",
       "      <td>3.5 hours</td>\n",
       "      <td>2017-03-10T22:24:30Z</td>\n",
       "      <td>Web Development</td>\n",
       "      <td>Design WordPress Website Coding</td>\n",
       "      <td>7650.0</td>\n",
       "      <td>55</td>\n",
       "    </tr>\n",
       "    <tr>\n",
       "      <th>3680</th>\n",
       "      <td>3680</td>\n",
       "      <td>635248</td>\n",
       "      <td>Learn and Build using Polymer</td>\n",
       "      <td>https://www.udemy.com/learn-and-build-using-po...</td>\n",
       "      <td>True</td>\n",
       "      <td>40.0</td>\n",
       "      <td>513</td>\n",
       "      <td>169</td>\n",
       "      <td>48</td>\n",
       "      <td>All Levels</td>\n",
       "      <td>3.5 hours</td>\n",
       "      <td>2015-12-30T16:41:42Z</td>\n",
       "      <td>Web Development</td>\n",
       "      <td>Learn Build Polymer</td>\n",
       "      <td>20520.0</td>\n",
       "      <td>29</td>\n",
       "    </tr>\n",
       "    <tr>\n",
       "      <th>3681</th>\n",
       "      <td>3681</td>\n",
       "      <td>905096</td>\n",
       "      <td>CSS Animations: Create Amazing Effects on Your...</td>\n",
       "      <td>https://www.udemy.com/css-animations-create-am...</td>\n",
       "      <td>True</td>\n",
       "      <td>50.0</td>\n",
       "      <td>300</td>\n",
       "      <td>31</td>\n",
       "      <td>38</td>\n",
       "      <td>All Levels</td>\n",
       "      <td>3 hours</td>\n",
       "      <td>2016-08-11T19:06:15Z</td>\n",
       "      <td>Web Development</td>\n",
       "      <td>CSS Animations Create Amazing Effects Website</td>\n",
       "      <td>15000.0</td>\n",
       "      <td>54</td>\n",
       "    </tr>\n",
       "    <tr>\n",
       "      <th>3682</th>\n",
       "      <td>3682</td>\n",
       "      <td>297602</td>\n",
       "      <td>Using MODX CMS to Build Websites: A Beginner's...</td>\n",
       "      <td>https://www.udemy.com/using-modx-cms-to-build-...</td>\n",
       "      <td>True</td>\n",
       "      <td>45.0</td>\n",
       "      <td>901</td>\n",
       "      <td>36</td>\n",
       "      <td>20</td>\n",
       "      <td>Beginner Level</td>\n",
       "      <td>2 hours</td>\n",
       "      <td>2014-09-28T19:51:11Z</td>\n",
       "      <td>Web Development</td>\n",
       "      <td>MODX CMS Build Websites Beginners Guide</td>\n",
       "      <td>40545.0</td>\n",
       "      <td>52</td>\n",
       "    </tr>\n",
       "  </tbody>\n",
       "</table>\n",
       "<p>3683 rows × 16 columns</p>\n",
       "</div>"
      ],
      "text/plain": [
       "      Unnamed: 0  course_id  \\\n",
       "0              0    1070968   \n",
       "1              1    1113822   \n",
       "2              2    1006314   \n",
       "3              3    1210588   \n",
       "4              4    1011058   \n",
       "...          ...        ...   \n",
       "3678        3678     775618   \n",
       "3679        3679    1088178   \n",
       "3680        3680     635248   \n",
       "3681        3681     905096   \n",
       "3682        3682     297602   \n",
       "\n",
       "                                           course_title  \\\n",
       "0                    Ultimate Investment Banking Course   \n",
       "1     Complete GST Course & Certification - Grow You...   \n",
       "2     Financial Modeling for Business Analysts and C...   \n",
       "3     Beginner to Pro - Financial Analysis in Excel ...   \n",
       "4          How To Maximize Your Profits Trading Options   \n",
       "...                                                 ...   \n",
       "3678  Learn jQuery from Scratch - Master of JavaScri...   \n",
       "3679  How To Design A WordPress Website With No Codi...   \n",
       "3680                      Learn and Build using Polymer   \n",
       "3681  CSS Animations: Create Amazing Effects on Your...   \n",
       "3682  Using MODX CMS to Build Websites: A Beginner's...   \n",
       "\n",
       "                                                    url  is_paid  price  \\\n",
       "0     https://www.udemy.com/ultimate-investment-bank...     True  200.0   \n",
       "1         https://www.udemy.com/goods-and-services-tax/     True   75.0   \n",
       "2     https://www.udemy.com/financial-modeling-for-b...     True   45.0   \n",
       "3     https://www.udemy.com/complete-excel-finance-c...     True   95.0   \n",
       "4     https://www.udemy.com/how-to-maximize-your-pro...     True  200.0   \n",
       "...                                                 ...      ...    ...   \n",
       "3678  https://www.udemy.com/easy-jquery-for-beginner...     True  100.0   \n",
       "3679  https://www.udemy.com/how-to-make-a-wordpress-...     True   25.0   \n",
       "3680  https://www.udemy.com/learn-and-build-using-po...     True   40.0   \n",
       "3681  https://www.udemy.com/css-animations-create-am...     True   50.0   \n",
       "3682  https://www.udemy.com/using-modx-cms-to-build-...     True   45.0   \n",
       "\n",
       "      num_subscribers  num_reviews  num_lectures               level  \\\n",
       "0                2147           23            51          All Levels   \n",
       "1                2792          923           274          All Levels   \n",
       "2                2174           74            51  Intermediate Level   \n",
       "3                2451           11            36          All Levels   \n",
       "4                1276           45            26  Intermediate Level   \n",
       "...               ...          ...           ...                 ...   \n",
       "3678             1040           14            21          All Levels   \n",
       "3679              306            3            42      Beginner Level   \n",
       "3680              513          169            48          All Levels   \n",
       "3681              300           31            38          All Levels   \n",
       "3682              901           36            20      Beginner Level   \n",
       "\n",
       "     content_duration   published_timestamp           subject  \\\n",
       "0           1.5 hours  2017-01-18T20:58:58Z  Business Finance   \n",
       "1            39 hours  2017-03-09T16:34:20Z  Business Finance   \n",
       "2           2.5 hours  2016-12-19T19:26:30Z  Business Finance   \n",
       "3             3 hours  2017-05-30T20:07:24Z  Business Finance   \n",
       "4             2 hours  2016-12-13T14:57:18Z  Business Finance   \n",
       "...               ...                   ...               ...   \n",
       "3678          2 hours  2016-06-14T17:36:46Z   Web Development   \n",
       "3679        3.5 hours  2017-03-10T22:24:30Z   Web Development   \n",
       "3680        3.5 hours  2015-12-30T16:41:42Z   Web Development   \n",
       "3681          3 hours  2016-08-11T19:06:15Z   Web Development   \n",
       "3682          2 hours  2014-09-28T19:51:11Z   Web Development   \n",
       "\n",
       "                                     clean_course_title    profit  \\\n",
       "0                    Ultimate Investment Banking Course  429400.0   \n",
       "1     Complete GST Course  Certification  Grow Practice  209400.0   \n",
       "2      Financial Modeling Business Analysts Consultants   97830.0   \n",
       "3           Beginner Pro  Financial Analysis Excel 2017  232845.0   \n",
       "4                      Maximize Profits Trading Options  255200.0   \n",
       "...                                                 ...       ...   \n",
       "3678    Learn jQuery Scratch  Master JavaScript library  104000.0   \n",
       "3679                    Design WordPress Website Coding    7650.0   \n",
       "3680                                Learn Build Polymer   20520.0   \n",
       "3681      CSS Animations Create Amazing Effects Website   15000.0   \n",
       "3682            MODX CMS Build Websites Beginners Guide   40545.0   \n",
       "\n",
       "      course_title_len  \n",
       "0                   34  \n",
       "1                   59  \n",
       "2                   56  \n",
       "3                   50  \n",
       "4                   44  \n",
       "...                ...  \n",
       "3678                56  \n",
       "3679                55  \n",
       "3680                29  \n",
       "3681                54  \n",
       "3682                52  \n",
       "\n",
       "[3683 rows x 16 columns]"
      ]
     },
     "execution_count": 68,
     "metadata": {},
     "output_type": "execute_result"
    }
   ],
   "source": [
    "df"
   ]
  },
  {
   "cell_type": "code",
   "execution_count": 69,
   "id": "24ff4d2f-b668-492a-af7d-cd4420bf97f6",
   "metadata": {},
   "outputs": [
    {
     "data": {
      "text/plain": [
       "243"
      ]
     },
     "execution_count": 69,
     "metadata": {},
     "output_type": "execute_result"
    }
   ],
   "source": [
    "df['course_title_len'].max()"
   ]
  },
  {
   "cell_type": "code",
   "execution_count": 70,
   "id": "56056cce-ce46-4ed2-9947-efc0c203c236",
   "metadata": {},
   "outputs": [
    {
     "data": {
      "text/plain": [
       "2191"
      ]
     },
     "execution_count": 70,
     "metadata": {},
     "output_type": "execute_result"
    }
   ],
   "source": [
    "df['course_title_len'].idxmax()"
   ]
  },
  {
   "cell_type": "code",
   "execution_count": 71,
   "id": "c1e24bd2-2779-4968-88a9-6c97007f73e8",
   "metadata": {},
   "outputs": [
    {
     "data": {
      "text/plain": [
       "Unnamed: 0                                                          2191\n",
       "course_id                                                         286898\n",
       "course_title           Aprende a tocar el Acordeón 'de oído y con téc...\n",
       "url                    https://www.udemy.com/aprende-los-secretos-de-...\n",
       "is_paid                                                             True\n",
       "price                                                               75.0\n",
       "num_subscribers                                                      158\n",
       "num_reviews                                                           17\n",
       "num_lectures                                                          59\n",
       "level                                                         All Levels\n",
       "content_duration                                               2.5 hours\n",
       "published_timestamp                                 2014-07-28T13:55:43Z\n",
       "subject                                              Musical Instruments\n",
       "clean_course_title     Aprende tocar el Acorden de odo con tcnicahttp...\n",
       "profit                                                           11850.0\n",
       "course_title_len                                                     243\n",
       "Name: 2191, dtype: object"
      ]
     },
     "execution_count": 71,
     "metadata": {},
     "output_type": "execute_result"
    }
   ],
   "source": [
    "df.iloc[2191]"
   ]
  },
  {
   "cell_type": "code",
   "execution_count": 72,
   "id": "31767106-f05a-4a76-9476-09a9e9838b14",
   "metadata": {},
   "outputs": [
    {
     "data": {
      "text/plain": [
       "6"
      ]
     },
     "execution_count": 72,
     "metadata": {},
     "output_type": "execute_result"
    }
   ],
   "source": [
    "df['course_title_len'].min()"
   ]
  },
  {
   "cell_type": "code",
   "execution_count": 73,
   "id": "d13193d5-c3cf-44f3-8d0f-252d4ed395c8",
   "metadata": {},
   "outputs": [
    {
     "data": {
      "text/plain": [
       "1328"
      ]
     },
     "execution_count": 73,
     "metadata": {},
     "output_type": "execute_result"
    }
   ],
   "source": [
    "df['course_title_len'].idxmin()"
   ]
  },
  {
   "cell_type": "code",
   "execution_count": 74,
   "id": "80f35cb5-f5b6-4031-938e-0fca96f94c8e",
   "metadata": {},
   "outputs": [
    {
     "data": {
      "text/plain": [
       "Unnamed: 0                                        1328\n",
       "course_id                                      1164570\n",
       "course_title                                    调色高级讲解\n",
       "url                    https://www.udemy.com/dezepioy/\n",
       "is_paid                                           True\n",
       "price                                            200.0\n",
       "num_subscribers                                      4\n",
       "num_reviews                                          2\n",
       "num_lectures                                         8\n",
       "level                                   Beginner Level\n",
       "content_duration                                1 hour\n",
       "published_timestamp               2017-03-31T17:16:15Z\n",
       "subject                                 Graphic Design\n",
       "clean_course_title                                 NaN\n",
       "profit                                           800.0\n",
       "course_title_len                                     6\n",
       "Name: 1328, dtype: object"
      ]
     },
     "execution_count": 74,
     "metadata": {},
     "output_type": "execute_result"
    }
   ],
   "source": [
    "df.iloc[1328]"
   ]
  },
  {
   "cell_type": "markdown",
   "id": "62400fdf-4a1b-469b-ad6a-9c82fe0e17a3",
   "metadata": {},
   "source": [
    "# time stamp "
   ]
  },
  {
   "cell_type": "code",
   "execution_count": 144,
   "id": "284ebab7-8d66-4b81-8cc7-abaa19641580",
   "metadata": {},
   "outputs": [
    {
     "data": {
      "text/plain": [
       "0       2017-01-18T20:58:58Z\n",
       "1       2017-03-09T16:34:20Z\n",
       "2       2016-12-19T19:26:30Z\n",
       "3       2017-05-30T20:07:24Z\n",
       "4       2016-12-13T14:57:18Z\n",
       "                ...         \n",
       "3678    2016-06-14T17:36:46Z\n",
       "3679    2017-03-10T22:24:30Z\n",
       "3680    2015-12-30T16:41:42Z\n",
       "3681    2016-08-11T19:06:15Z\n",
       "3682    2014-09-28T19:51:11Z\n",
       "Name: published_timestamp, Length: 3683, dtype: object"
      ]
     },
     "execution_count": 144,
     "metadata": {},
     "output_type": "execute_result"
    }
   ],
   "source": [
    "df['published_timestamp']"
   ]
  },
  {
   "cell_type": "code",
   "execution_count": 151,
   "id": "f30d5830-e0f2-41ef-b41e-13f9576ab8a6",
   "metadata": {},
   "outputs": [
    {
     "data": {
      "text/plain": [
       "0       [2017-01-18, 20:58:58Z]\n",
       "1       [2017-03-09, 16:34:20Z]\n",
       "2       [2016-12-19, 19:26:30Z]\n",
       "3       [2017-05-30, 20:07:24Z]\n",
       "4       [2016-12-13, 14:57:18Z]\n",
       "                 ...           \n",
       "3678    [2016-06-14, 17:36:46Z]\n",
       "3679    [2017-03-10, 22:24:30Z]\n",
       "3680    [2015-12-30, 16:41:42Z]\n",
       "3681    [2016-08-11, 19:06:15Z]\n",
       "3682    [2014-09-28, 19:51:11Z]\n",
       "Name: published_timestamp, Length: 3683, dtype: object"
      ]
     },
     "execution_count": 151,
     "metadata": {},
     "output_type": "execute_result"
    }
   ],
   "source": [
    "df['published_timestamp'].str.split('T')"
   ]
  },
  {
   "cell_type": "code",
   "execution_count": 155,
   "id": "7564cdc4-b831-4636-ae8b-51c7cd7e8a81",
   "metadata": {},
   "outputs": [],
   "source": [
    "df['published_date']=df['published_timestamp'].str.split('T').str.get(0)"
   ]
  },
  {
   "cell_type": "code",
   "execution_count": 157,
   "id": "c9849c7b-e3a0-4d47-8521-55202585f005",
   "metadata": {},
   "outputs": [
    {
     "data": {
      "text/plain": [
       "0       2017-01-18\n",
       "1       2017-03-09\n",
       "2       2016-12-19\n",
       "3       2017-05-30\n",
       "4       2016-12-13\n",
       "           ...    \n",
       "3678    2016-06-14\n",
       "3679    2017-03-10\n",
       "3680    2015-12-30\n",
       "3681    2016-08-11\n",
       "3682    2014-09-28\n",
       "Name: published_date, Length: 3683, dtype: object"
      ]
     },
     "execution_count": 157,
     "metadata": {},
     "output_type": "execute_result"
    }
   ],
   "source": [
    "df['published_date']"
   ]
  },
  {
   "cell_type": "code",
   "execution_count": 159,
   "id": "e23ff474-f049-404a-ad57-da3c1364d211",
   "metadata": {},
   "outputs": [
    {
     "ename": "ValueError",
     "evalue": "time data \"3 hours\" doesn't match format \"%Y-%m-%d\", at position 2066. You might want to try:\n    - passing `format` if your strings have a consistent format;\n    - passing `format='ISO8601'` if your strings are all ISO8601 but not necessarily in exactly the same format;\n    - passing `format='mixed'`, and the format will be inferred for each element individually. You might want to use `dayfirst` alongside this.",
     "output_type": "error",
     "traceback": [
      "\u001b[1;31m---------------------------------------------------------------------------\u001b[0m",
      "\u001b[1;31mValueError\u001b[0m                                Traceback (most recent call last)",
      "Cell \u001b[1;32mIn[159], line 1\u001b[0m\n\u001b[1;32m----> 1\u001b[0m df[\u001b[38;5;124m'\u001b[39m\u001b[38;5;124mpublished_date\u001b[39m\u001b[38;5;124m'\u001b[39m]\u001b[38;5;241m=\u001b[39mpd\u001b[38;5;241m.\u001b[39mto_datetime(df[\u001b[38;5;124m'\u001b[39m\u001b[38;5;124mpublished_date\u001b[39m\u001b[38;5;124m'\u001b[39m],\u001b[38;5;28mformat\u001b[39m\u001b[38;5;241m=\u001b[39m\u001b[38;5;124m'\u001b[39m\u001b[38;5;124m%\u001b[39m\u001b[38;5;124mY-\u001b[39m\u001b[38;5;124m%\u001b[39m\u001b[38;5;124mm-\u001b[39m\u001b[38;5;132;01m%d\u001b[39;00m\u001b[38;5;124m'\u001b[39m)\n",
      "File \u001b[1;32m~\\anaconda3\\Lib\\site-packages\\pandas\\core\\tools\\datetimes.py:1067\u001b[0m, in \u001b[0;36mto_datetime\u001b[1;34m(arg, errors, dayfirst, yearfirst, utc, format, exact, unit, infer_datetime_format, origin, cache)\u001b[0m\n\u001b[0;32m   1065\u001b[0m         result \u001b[38;5;241m=\u001b[39m arg\u001b[38;5;241m.\u001b[39mmap(cache_array)\n\u001b[0;32m   1066\u001b[0m     \u001b[38;5;28;01melse\u001b[39;00m:\n\u001b[1;32m-> 1067\u001b[0m         values \u001b[38;5;241m=\u001b[39m convert_listlike(arg\u001b[38;5;241m.\u001b[39m_values, \u001b[38;5;28mformat\u001b[39m)\n\u001b[0;32m   1068\u001b[0m         result \u001b[38;5;241m=\u001b[39m arg\u001b[38;5;241m.\u001b[39m_constructor(values, index\u001b[38;5;241m=\u001b[39marg\u001b[38;5;241m.\u001b[39mindex, name\u001b[38;5;241m=\u001b[39marg\u001b[38;5;241m.\u001b[39mname)\n\u001b[0;32m   1069\u001b[0m \u001b[38;5;28;01melif\u001b[39;00m \u001b[38;5;28misinstance\u001b[39m(arg, (ABCDataFrame, abc\u001b[38;5;241m.\u001b[39mMutableMapping)):\n",
      "File \u001b[1;32m~\\anaconda3\\Lib\\site-packages\\pandas\\core\\tools\\datetimes.py:433\u001b[0m, in \u001b[0;36m_convert_listlike_datetimes\u001b[1;34m(arg, format, name, utc, unit, errors, dayfirst, yearfirst, exact)\u001b[0m\n\u001b[0;32m    431\u001b[0m \u001b[38;5;66;03m# `format` could be inferred, or user didn't ask for mixed-format parsing.\u001b[39;00m\n\u001b[0;32m    432\u001b[0m \u001b[38;5;28;01mif\u001b[39;00m \u001b[38;5;28mformat\u001b[39m \u001b[38;5;129;01mis\u001b[39;00m \u001b[38;5;129;01mnot\u001b[39;00m \u001b[38;5;28;01mNone\u001b[39;00m \u001b[38;5;129;01mand\u001b[39;00m \u001b[38;5;28mformat\u001b[39m \u001b[38;5;241m!=\u001b[39m \u001b[38;5;124m\"\u001b[39m\u001b[38;5;124mmixed\u001b[39m\u001b[38;5;124m\"\u001b[39m:\n\u001b[1;32m--> 433\u001b[0m     \u001b[38;5;28;01mreturn\u001b[39;00m _array_strptime_with_fallback(arg, name, utc, \u001b[38;5;28mformat\u001b[39m, exact, errors)\n\u001b[0;32m    435\u001b[0m result, tz_parsed \u001b[38;5;241m=\u001b[39m objects_to_datetime64(\n\u001b[0;32m    436\u001b[0m     arg,\n\u001b[0;32m    437\u001b[0m     dayfirst\u001b[38;5;241m=\u001b[39mdayfirst,\n\u001b[1;32m   (...)\u001b[0m\n\u001b[0;32m    441\u001b[0m     allow_object\u001b[38;5;241m=\u001b[39m\u001b[38;5;28;01mTrue\u001b[39;00m,\n\u001b[0;32m    442\u001b[0m )\n\u001b[0;32m    444\u001b[0m \u001b[38;5;28;01mif\u001b[39;00m tz_parsed \u001b[38;5;129;01mis\u001b[39;00m \u001b[38;5;129;01mnot\u001b[39;00m \u001b[38;5;28;01mNone\u001b[39;00m:\n\u001b[0;32m    445\u001b[0m     \u001b[38;5;66;03m# We can take a shortcut since the datetime64 numpy array\u001b[39;00m\n\u001b[0;32m    446\u001b[0m     \u001b[38;5;66;03m# is in UTC\u001b[39;00m\n",
      "File \u001b[1;32m~\\anaconda3\\Lib\\site-packages\\pandas\\core\\tools\\datetimes.py:467\u001b[0m, in \u001b[0;36m_array_strptime_with_fallback\u001b[1;34m(arg, name, utc, fmt, exact, errors)\u001b[0m\n\u001b[0;32m    456\u001b[0m \u001b[38;5;28;01mdef\u001b[39;00m \u001b[38;5;21m_array_strptime_with_fallback\u001b[39m(\n\u001b[0;32m    457\u001b[0m     arg,\n\u001b[0;32m    458\u001b[0m     name,\n\u001b[1;32m   (...)\u001b[0m\n\u001b[0;32m    462\u001b[0m     errors: \u001b[38;5;28mstr\u001b[39m,\n\u001b[0;32m    463\u001b[0m ) \u001b[38;5;241m-\u001b[39m\u001b[38;5;241m>\u001b[39m Index:\n\u001b[0;32m    464\u001b[0m \u001b[38;5;250m    \u001b[39m\u001b[38;5;124;03m\"\"\"\u001b[39;00m\n\u001b[0;32m    465\u001b[0m \u001b[38;5;124;03m    Call array_strptime, with fallback behavior depending on 'errors'.\u001b[39;00m\n\u001b[0;32m    466\u001b[0m \u001b[38;5;124;03m    \"\"\"\u001b[39;00m\n\u001b[1;32m--> 467\u001b[0m     result, tz_out \u001b[38;5;241m=\u001b[39m array_strptime(arg, fmt, exact\u001b[38;5;241m=\u001b[39mexact, errors\u001b[38;5;241m=\u001b[39merrors, utc\u001b[38;5;241m=\u001b[39mutc)\n\u001b[0;32m    468\u001b[0m     \u001b[38;5;28;01mif\u001b[39;00m tz_out \u001b[38;5;129;01mis\u001b[39;00m \u001b[38;5;129;01mnot\u001b[39;00m \u001b[38;5;28;01mNone\u001b[39;00m:\n\u001b[0;32m    469\u001b[0m         unit \u001b[38;5;241m=\u001b[39m np\u001b[38;5;241m.\u001b[39mdatetime_data(result\u001b[38;5;241m.\u001b[39mdtype)[\u001b[38;5;241m0\u001b[39m]\n",
      "File \u001b[1;32mstrptime.pyx:501\u001b[0m, in \u001b[0;36mpandas._libs.tslibs.strptime.array_strptime\u001b[1;34m()\u001b[0m\n",
      "File \u001b[1;32mstrptime.pyx:451\u001b[0m, in \u001b[0;36mpandas._libs.tslibs.strptime.array_strptime\u001b[1;34m()\u001b[0m\n",
      "File \u001b[1;32mstrptime.pyx:583\u001b[0m, in \u001b[0;36mpandas._libs.tslibs.strptime._parse_with_format\u001b[1;34m()\u001b[0m\n",
      "\u001b[1;31mValueError\u001b[0m: time data \"3 hours\" doesn't match format \"%Y-%m-%d\", at position 2066. You might want to try:\n    - passing `format` if your strings have a consistent format;\n    - passing `format='ISO8601'` if your strings are all ISO8601 but not necessarily in exactly the same format;\n    - passing `format='mixed'`, and the format will be inferred for each element individually. You might want to use `dayfirst` alongside this."
     ]
    }
   ],
   "source": [
    "df['published_date']=pd.to_datetime(df['published_date'],format='%Y-%m-%d')"
   ]
  },
  {
   "cell_type": "code",
   "execution_count": 161,
   "id": "942db965-6b5f-4235-8463-80ff4066736d",
   "metadata": {},
   "outputs": [],
   "source": [
    "df['published_date']=df['published_date'].str.replace('3 hours','2017-01-18')"
   ]
  },
  {
   "cell_type": "code",
   "execution_count": 163,
   "id": "b077106c-30f2-4ba9-8429-0cdd6d5c8214",
   "metadata": {},
   "outputs": [],
   "source": [
    "df['published_date']=pd.to_datetime(df['published_date'],format='%Y-%m-%d')"
   ]
  },
  {
   "cell_type": "code",
   "execution_count": 167,
   "id": "80354e55-44f8-495b-b0a8-a176f138f00c",
   "metadata": {},
   "outputs": [
    {
     "data": {
      "text/plain": [
       "Unnamed: 0                      int64\n",
       "course_id                       int64\n",
       "course_title                   object\n",
       "url                            object\n",
       "is_paid                          bool\n",
       "price                         float64\n",
       "num_subscribers                 int64\n",
       "num_reviews                     int64\n",
       "num_lectures                    int64\n",
       "level                          object\n",
       "content_duration               object\n",
       "published_timestamp            object\n",
       "subject                        object\n",
       "clean_course_title             object\n",
       "profit                        float64\n",
       "course_title_len                int64\n",
       "published_date         datetime64[ns]\n",
       "dtype: object"
      ]
     },
     "execution_count": 167,
     "metadata": {},
     "output_type": "execute_result"
    }
   ],
   "source": [
    "df.dtypes"
   ]
  },
  {
   "cell_type": "code",
   "execution_count": 169,
   "id": "67360a0e-2bd1-4f6c-bbb4-58a93d6c0ed7",
   "metadata": {},
   "outputs": [],
   "source": [
    "df['year']=df['published_date'].dt.year\n",
    "df['month']=df['published_date'].dt.month\n",
    "df['day']=df['published_date'].dt.day"
   ]
  },
  {
   "cell_type": "code",
   "execution_count": 171,
   "id": "553a0fc7-5e6e-4d9a-9032-d03cbb296fc2",
   "metadata": {},
   "outputs": [
    {
     "data": {
      "text/html": [
       "<div>\n",
       "<style scoped>\n",
       "    .dataframe tbody tr th:only-of-type {\n",
       "        vertical-align: middle;\n",
       "    }\n",
       "\n",
       "    .dataframe tbody tr th {\n",
       "        vertical-align: top;\n",
       "    }\n",
       "\n",
       "    .dataframe thead th {\n",
       "        text-align: right;\n",
       "    }\n",
       "</style>\n",
       "<table border=\"1\" class=\"dataframe\">\n",
       "  <thead>\n",
       "    <tr style=\"text-align: right;\">\n",
       "      <th></th>\n",
       "      <th>Unnamed: 0</th>\n",
       "      <th>course_id</th>\n",
       "      <th>course_title</th>\n",
       "      <th>url</th>\n",
       "      <th>is_paid</th>\n",
       "      <th>price</th>\n",
       "      <th>num_subscribers</th>\n",
       "      <th>num_reviews</th>\n",
       "      <th>num_lectures</th>\n",
       "      <th>level</th>\n",
       "      <th>content_duration</th>\n",
       "      <th>published_timestamp</th>\n",
       "      <th>subject</th>\n",
       "      <th>clean_course_title</th>\n",
       "      <th>profit</th>\n",
       "      <th>course_title_len</th>\n",
       "      <th>published_date</th>\n",
       "      <th>year</th>\n",
       "      <th>month</th>\n",
       "      <th>day</th>\n",
       "    </tr>\n",
       "  </thead>\n",
       "  <tbody>\n",
       "    <tr>\n",
       "      <th>0</th>\n",
       "      <td>0</td>\n",
       "      <td>1070968</td>\n",
       "      <td>Ultimate Investment Banking Course</td>\n",
       "      <td>https://www.udemy.com/ultimate-investment-bank...</td>\n",
       "      <td>True</td>\n",
       "      <td>200.0</td>\n",
       "      <td>2147</td>\n",
       "      <td>23</td>\n",
       "      <td>51</td>\n",
       "      <td>All Levels</td>\n",
       "      <td>1.5 hours</td>\n",
       "      <td>2017-01-18T20:58:58Z</td>\n",
       "      <td>Business Finance</td>\n",
       "      <td>Ultimate Investment Banking Course</td>\n",
       "      <td>429400.0</td>\n",
       "      <td>34</td>\n",
       "      <td>2017-01-18</td>\n",
       "      <td>2017</td>\n",
       "      <td>1</td>\n",
       "      <td>18</td>\n",
       "    </tr>\n",
       "    <tr>\n",
       "      <th>1</th>\n",
       "      <td>1</td>\n",
       "      <td>1113822</td>\n",
       "      <td>Complete GST Course &amp; Certification - Grow You...</td>\n",
       "      <td>https://www.udemy.com/goods-and-services-tax/</td>\n",
       "      <td>True</td>\n",
       "      <td>75.0</td>\n",
       "      <td>2792</td>\n",
       "      <td>923</td>\n",
       "      <td>274</td>\n",
       "      <td>All Levels</td>\n",
       "      <td>39 hours</td>\n",
       "      <td>2017-03-09T16:34:20Z</td>\n",
       "      <td>Business Finance</td>\n",
       "      <td>Complete GST Course  Certification  Grow Practice</td>\n",
       "      <td>209400.0</td>\n",
       "      <td>59</td>\n",
       "      <td>2017-03-09</td>\n",
       "      <td>2017</td>\n",
       "      <td>3</td>\n",
       "      <td>9</td>\n",
       "    </tr>\n",
       "    <tr>\n",
       "      <th>2</th>\n",
       "      <td>2</td>\n",
       "      <td>1006314</td>\n",
       "      <td>Financial Modeling for Business Analysts and C...</td>\n",
       "      <td>https://www.udemy.com/financial-modeling-for-b...</td>\n",
       "      <td>True</td>\n",
       "      <td>45.0</td>\n",
       "      <td>2174</td>\n",
       "      <td>74</td>\n",
       "      <td>51</td>\n",
       "      <td>Intermediate Level</td>\n",
       "      <td>2.5 hours</td>\n",
       "      <td>2016-12-19T19:26:30Z</td>\n",
       "      <td>Business Finance</td>\n",
       "      <td>Financial Modeling Business Analysts Consultants</td>\n",
       "      <td>97830.0</td>\n",
       "      <td>56</td>\n",
       "      <td>2016-12-19</td>\n",
       "      <td>2016</td>\n",
       "      <td>12</td>\n",
       "      <td>19</td>\n",
       "    </tr>\n",
       "    <tr>\n",
       "      <th>3</th>\n",
       "      <td>3</td>\n",
       "      <td>1210588</td>\n",
       "      <td>Beginner to Pro - Financial Analysis in Excel ...</td>\n",
       "      <td>https://www.udemy.com/complete-excel-finance-c...</td>\n",
       "      <td>True</td>\n",
       "      <td>95.0</td>\n",
       "      <td>2451</td>\n",
       "      <td>11</td>\n",
       "      <td>36</td>\n",
       "      <td>All Levels</td>\n",
       "      <td>3 hours</td>\n",
       "      <td>2017-05-30T20:07:24Z</td>\n",
       "      <td>Business Finance</td>\n",
       "      <td>Beginner Pro  Financial Analysis Excel 2017</td>\n",
       "      <td>232845.0</td>\n",
       "      <td>50</td>\n",
       "      <td>2017-05-30</td>\n",
       "      <td>2017</td>\n",
       "      <td>5</td>\n",
       "      <td>30</td>\n",
       "    </tr>\n",
       "    <tr>\n",
       "      <th>4</th>\n",
       "      <td>4</td>\n",
       "      <td>1011058</td>\n",
       "      <td>How To Maximize Your Profits Trading Options</td>\n",
       "      <td>https://www.udemy.com/how-to-maximize-your-pro...</td>\n",
       "      <td>True</td>\n",
       "      <td>200.0</td>\n",
       "      <td>1276</td>\n",
       "      <td>45</td>\n",
       "      <td>26</td>\n",
       "      <td>Intermediate Level</td>\n",
       "      <td>2 hours</td>\n",
       "      <td>2016-12-13T14:57:18Z</td>\n",
       "      <td>Business Finance</td>\n",
       "      <td>Maximize Profits Trading Options</td>\n",
       "      <td>255200.0</td>\n",
       "      <td>44</td>\n",
       "      <td>2016-12-13</td>\n",
       "      <td>2016</td>\n",
       "      <td>12</td>\n",
       "      <td>13</td>\n",
       "    </tr>\n",
       "    <tr>\n",
       "      <th>...</th>\n",
       "      <td>...</td>\n",
       "      <td>...</td>\n",
       "      <td>...</td>\n",
       "      <td>...</td>\n",
       "      <td>...</td>\n",
       "      <td>...</td>\n",
       "      <td>...</td>\n",
       "      <td>...</td>\n",
       "      <td>...</td>\n",
       "      <td>...</td>\n",
       "      <td>...</td>\n",
       "      <td>...</td>\n",
       "      <td>...</td>\n",
       "      <td>...</td>\n",
       "      <td>...</td>\n",
       "      <td>...</td>\n",
       "      <td>...</td>\n",
       "      <td>...</td>\n",
       "      <td>...</td>\n",
       "      <td>...</td>\n",
       "    </tr>\n",
       "    <tr>\n",
       "      <th>3678</th>\n",
       "      <td>3678</td>\n",
       "      <td>775618</td>\n",
       "      <td>Learn jQuery from Scratch - Master of JavaScri...</td>\n",
       "      <td>https://www.udemy.com/easy-jquery-for-beginner...</td>\n",
       "      <td>True</td>\n",
       "      <td>100.0</td>\n",
       "      <td>1040</td>\n",
       "      <td>14</td>\n",
       "      <td>21</td>\n",
       "      <td>All Levels</td>\n",
       "      <td>2 hours</td>\n",
       "      <td>2016-06-14T17:36:46Z</td>\n",
       "      <td>Web Development</td>\n",
       "      <td>Learn jQuery Scratch  Master JavaScript library</td>\n",
       "      <td>104000.0</td>\n",
       "      <td>56</td>\n",
       "      <td>2016-06-14</td>\n",
       "      <td>2016</td>\n",
       "      <td>6</td>\n",
       "      <td>14</td>\n",
       "    </tr>\n",
       "    <tr>\n",
       "      <th>3679</th>\n",
       "      <td>3679</td>\n",
       "      <td>1088178</td>\n",
       "      <td>How To Design A WordPress Website With No Codi...</td>\n",
       "      <td>https://www.udemy.com/how-to-make-a-wordpress-...</td>\n",
       "      <td>True</td>\n",
       "      <td>25.0</td>\n",
       "      <td>306</td>\n",
       "      <td>3</td>\n",
       "      <td>42</td>\n",
       "      <td>Beginner Level</td>\n",
       "      <td>3.5 hours</td>\n",
       "      <td>2017-03-10T22:24:30Z</td>\n",
       "      <td>Web Development</td>\n",
       "      <td>Design WordPress Website Coding</td>\n",
       "      <td>7650.0</td>\n",
       "      <td>55</td>\n",
       "      <td>2017-03-10</td>\n",
       "      <td>2017</td>\n",
       "      <td>3</td>\n",
       "      <td>10</td>\n",
       "    </tr>\n",
       "    <tr>\n",
       "      <th>3680</th>\n",
       "      <td>3680</td>\n",
       "      <td>635248</td>\n",
       "      <td>Learn and Build using Polymer</td>\n",
       "      <td>https://www.udemy.com/learn-and-build-using-po...</td>\n",
       "      <td>True</td>\n",
       "      <td>40.0</td>\n",
       "      <td>513</td>\n",
       "      <td>169</td>\n",
       "      <td>48</td>\n",
       "      <td>All Levels</td>\n",
       "      <td>3.5 hours</td>\n",
       "      <td>2015-12-30T16:41:42Z</td>\n",
       "      <td>Web Development</td>\n",
       "      <td>Learn Build Polymer</td>\n",
       "      <td>20520.0</td>\n",
       "      <td>29</td>\n",
       "      <td>2015-12-30</td>\n",
       "      <td>2015</td>\n",
       "      <td>12</td>\n",
       "      <td>30</td>\n",
       "    </tr>\n",
       "    <tr>\n",
       "      <th>3681</th>\n",
       "      <td>3681</td>\n",
       "      <td>905096</td>\n",
       "      <td>CSS Animations: Create Amazing Effects on Your...</td>\n",
       "      <td>https://www.udemy.com/css-animations-create-am...</td>\n",
       "      <td>True</td>\n",
       "      <td>50.0</td>\n",
       "      <td>300</td>\n",
       "      <td>31</td>\n",
       "      <td>38</td>\n",
       "      <td>All Levels</td>\n",
       "      <td>3 hours</td>\n",
       "      <td>2016-08-11T19:06:15Z</td>\n",
       "      <td>Web Development</td>\n",
       "      <td>CSS Animations Create Amazing Effects Website</td>\n",
       "      <td>15000.0</td>\n",
       "      <td>54</td>\n",
       "      <td>2016-08-11</td>\n",
       "      <td>2016</td>\n",
       "      <td>8</td>\n",
       "      <td>11</td>\n",
       "    </tr>\n",
       "    <tr>\n",
       "      <th>3682</th>\n",
       "      <td>3682</td>\n",
       "      <td>297602</td>\n",
       "      <td>Using MODX CMS to Build Websites: A Beginner's...</td>\n",
       "      <td>https://www.udemy.com/using-modx-cms-to-build-...</td>\n",
       "      <td>True</td>\n",
       "      <td>45.0</td>\n",
       "      <td>901</td>\n",
       "      <td>36</td>\n",
       "      <td>20</td>\n",
       "      <td>Beginner Level</td>\n",
       "      <td>2 hours</td>\n",
       "      <td>2014-09-28T19:51:11Z</td>\n",
       "      <td>Web Development</td>\n",
       "      <td>MODX CMS Build Websites Beginners Guide</td>\n",
       "      <td>40545.0</td>\n",
       "      <td>52</td>\n",
       "      <td>2014-09-28</td>\n",
       "      <td>2014</td>\n",
       "      <td>9</td>\n",
       "      <td>28</td>\n",
       "    </tr>\n",
       "  </tbody>\n",
       "</table>\n",
       "<p>3683 rows × 20 columns</p>\n",
       "</div>"
      ],
      "text/plain": [
       "      Unnamed: 0  course_id  \\\n",
       "0              0    1070968   \n",
       "1              1    1113822   \n",
       "2              2    1006314   \n",
       "3              3    1210588   \n",
       "4              4    1011058   \n",
       "...          ...        ...   \n",
       "3678        3678     775618   \n",
       "3679        3679    1088178   \n",
       "3680        3680     635248   \n",
       "3681        3681     905096   \n",
       "3682        3682     297602   \n",
       "\n",
       "                                           course_title  \\\n",
       "0                    Ultimate Investment Banking Course   \n",
       "1     Complete GST Course & Certification - Grow You...   \n",
       "2     Financial Modeling for Business Analysts and C...   \n",
       "3     Beginner to Pro - Financial Analysis in Excel ...   \n",
       "4          How To Maximize Your Profits Trading Options   \n",
       "...                                                 ...   \n",
       "3678  Learn jQuery from Scratch - Master of JavaScri...   \n",
       "3679  How To Design A WordPress Website With No Codi...   \n",
       "3680                      Learn and Build using Polymer   \n",
       "3681  CSS Animations: Create Amazing Effects on Your...   \n",
       "3682  Using MODX CMS to Build Websites: A Beginner's...   \n",
       "\n",
       "                                                    url  is_paid  price  \\\n",
       "0     https://www.udemy.com/ultimate-investment-bank...     True  200.0   \n",
       "1         https://www.udemy.com/goods-and-services-tax/     True   75.0   \n",
       "2     https://www.udemy.com/financial-modeling-for-b...     True   45.0   \n",
       "3     https://www.udemy.com/complete-excel-finance-c...     True   95.0   \n",
       "4     https://www.udemy.com/how-to-maximize-your-pro...     True  200.0   \n",
       "...                                                 ...      ...    ...   \n",
       "3678  https://www.udemy.com/easy-jquery-for-beginner...     True  100.0   \n",
       "3679  https://www.udemy.com/how-to-make-a-wordpress-...     True   25.0   \n",
       "3680  https://www.udemy.com/learn-and-build-using-po...     True   40.0   \n",
       "3681  https://www.udemy.com/css-animations-create-am...     True   50.0   \n",
       "3682  https://www.udemy.com/using-modx-cms-to-build-...     True   45.0   \n",
       "\n",
       "      num_subscribers  num_reviews  num_lectures               level  \\\n",
       "0                2147           23            51          All Levels   \n",
       "1                2792          923           274          All Levels   \n",
       "2                2174           74            51  Intermediate Level   \n",
       "3                2451           11            36          All Levels   \n",
       "4                1276           45            26  Intermediate Level   \n",
       "...               ...          ...           ...                 ...   \n",
       "3678             1040           14            21          All Levels   \n",
       "3679              306            3            42      Beginner Level   \n",
       "3680              513          169            48          All Levels   \n",
       "3681              300           31            38          All Levels   \n",
       "3682              901           36            20      Beginner Level   \n",
       "\n",
       "     content_duration   published_timestamp           subject  \\\n",
       "0           1.5 hours  2017-01-18T20:58:58Z  Business Finance   \n",
       "1            39 hours  2017-03-09T16:34:20Z  Business Finance   \n",
       "2           2.5 hours  2016-12-19T19:26:30Z  Business Finance   \n",
       "3             3 hours  2017-05-30T20:07:24Z  Business Finance   \n",
       "4             2 hours  2016-12-13T14:57:18Z  Business Finance   \n",
       "...               ...                   ...               ...   \n",
       "3678          2 hours  2016-06-14T17:36:46Z   Web Development   \n",
       "3679        3.5 hours  2017-03-10T22:24:30Z   Web Development   \n",
       "3680        3.5 hours  2015-12-30T16:41:42Z   Web Development   \n",
       "3681          3 hours  2016-08-11T19:06:15Z   Web Development   \n",
       "3682          2 hours  2014-09-28T19:51:11Z   Web Development   \n",
       "\n",
       "                                     clean_course_title    profit  \\\n",
       "0                    Ultimate Investment Banking Course  429400.0   \n",
       "1     Complete GST Course  Certification  Grow Practice  209400.0   \n",
       "2      Financial Modeling Business Analysts Consultants   97830.0   \n",
       "3           Beginner Pro  Financial Analysis Excel 2017  232845.0   \n",
       "4                      Maximize Profits Trading Options  255200.0   \n",
       "...                                                 ...       ...   \n",
       "3678    Learn jQuery Scratch  Master JavaScript library  104000.0   \n",
       "3679                    Design WordPress Website Coding    7650.0   \n",
       "3680                                Learn Build Polymer   20520.0   \n",
       "3681      CSS Animations Create Amazing Effects Website   15000.0   \n",
       "3682            MODX CMS Build Websites Beginners Guide   40545.0   \n",
       "\n",
       "      course_title_len published_date  year  month  day  \n",
       "0                   34     2017-01-18  2017      1   18  \n",
       "1                   59     2017-03-09  2017      3    9  \n",
       "2                   56     2016-12-19  2016     12   19  \n",
       "3                   50     2017-05-30  2017      5   30  \n",
       "4                   44     2016-12-13  2016     12   13  \n",
       "...                ...            ...   ...    ...  ...  \n",
       "3678                56     2016-06-14  2016      6   14  \n",
       "3679                55     2017-03-10  2017      3   10  \n",
       "3680                29     2015-12-30  2015     12   30  \n",
       "3681                54     2016-08-11  2016      8   11  \n",
       "3682                52     2014-09-28  2014      9   28  \n",
       "\n",
       "[3683 rows x 20 columns]"
      ]
     },
     "execution_count": 171,
     "metadata": {},
     "output_type": "execute_result"
    }
   ],
   "source": [
    "df"
   ]
  },
  {
   "cell_type": "code",
   "execution_count": 173,
   "id": "23666c7b-8586-459a-b6b3-6bdafb15390e",
   "metadata": {},
   "outputs": [
    {
     "data": {
      "text/plain": [
       "array([2017, 2016, 2014, 2015, 2013, 2012, 2011])"
      ]
     },
     "execution_count": 173,
     "metadata": {},
     "output_type": "execute_result"
    }
   ],
   "source": [
    "df['year'].unique()"
   ]
  },
  {
   "cell_type": "code",
   "execution_count": 185,
   "id": "4c071973-0bab-483a-933c-9888e1da8422",
   "metadata": {},
   "outputs": [
    {
     "data": {
      "image/png": "[encoded data removed]",
      "text/plain": [
       "<Figure size 640x480 with 1 Axes>"
      ]
     },
     "metadata": {},
     "output_type": "display_data"
    }
   ],
   "source": [
    "df.groupby('year')['num_subscribers'].sum().plot(kind=('bar'))\n",
    "plt.show()"
   ]
  },
  {
   "cell_type": "code",
   "execution_count": 189,
   "id": "dc998382-ec63-43d4-aab7-9a5c0b3f5d3a",
   "metadata": {},
   "outputs": [
    {
     "name": "stderr",
     "output_type": "stream",
     "text": [
      "C:\\Users\\hp\\AppData\\Local\\Temp\\ipykernel_2136\\3610673188.py:2: FutureWarning: \n",
      "\n",
      "The `ci` parameter is deprecated. Use `errorbar=None` for the same effect.\n",
      "\n",
      "  sns.lineplot(x='year',y='num_subscribers',data=df,hue='subject',ci=None)\n"
     ]
    },
    {
     "data": {
      "image/png": "[encoded data removed]",
      "text/plain": [
       "<Figure size 2000x1000 with 1 Axes>"
      ]
     },
     "metadata": {},
     "output_type": "display_data"
    }
   ],
   "source": [
    "plt.figure(figsize=(20,10))\n",
    "sns.lineplot(x='year',y='num_subscribers',data=df,hue='subject',ci=None)\n",
    "plt.title('plot of subscriptions per year per subject category')\n",
    "plt.show()"
   ]
  },
  {
   "cell_type": "code",
   "execution_count": null,
   "id": "66783fdf-2de3-43ed-a70b-eebd9214260e",
   "metadata": {},
   "outputs": [],
   "source": []
  }
 ],
 "metadata": {
  "kernelspec": {
   "display_name": "Python [conda env:base] *",
   "language": "python",
   "name": "conda-base-py"
  },
  "language_info": {
   "codemirror_mode": {
    "name": "ipython",
    "version": 3
   },
   "file_extension": ".py",
   "mimetype": "text/x-python",
   "name": "python",
   "nbconvert_exporter": "python",
   "pygments_lexer": "ipython3",
   "version": "3.12.7"
  }
 },
 "nbformat": 4,
 "nbformat_minor": 5
}
